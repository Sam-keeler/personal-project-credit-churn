{
 "cells": [
  {
   "cell_type": "markdown",
   "metadata": {},
   "source": [
    "## Importing packages"
   ]
  },
  {
   "cell_type": "code",
   "execution_count": 1,
   "metadata": {},
   "outputs": [],
   "source": [
    "import matplotlib.pyplot as plt\n",
    "import numpy as np\n",
    "import pandas as pd\n",
    "from scipy import stats\n",
    "from datetime import date\n",
    "import seaborn as sns\n",
    "from pydataset import data\n",
    "from wrangle import acquire, prepare, split\n",
    "from sklearn.model_selection import train_test_split\n",
    "from sklearn.tree import DecisionTreeClassifier\n",
    "from sklearn.ensemble import RandomForestClassifier\n",
    "from sklearn.neighbors import KNeighborsClassifier\n",
    "from sklearn.linear_model import LogisticRegression\n",
    "from sklearn.metrics import classification_report\n",
    "from sklearn.metrics import confusion_matrix"
   ]
  },
  {
   "cell_type": "markdown",
   "metadata": {},
   "source": [
    "## Acquiring data from local file"
   ]
  },
  {
   "cell_type": "code",
   "execution_count": 2,
   "metadata": {},
   "outputs": [],
   "source": [
    "credit = acquire()"
   ]
  },
  {
   "cell_type": "markdown",
   "metadata": {},
   "source": [
    "## Preparing the data"
   ]
  },
  {
   "cell_type": "code",
   "execution_count": 3,
   "metadata": {},
   "outputs": [],
   "source": [
    "credit = prepare(credit)"
   ]
  },
  {
   "cell_type": "markdown",
   "metadata": {},
   "source": [
    "## Splitting the data"
   ]
  },
  {
   "cell_type": "code",
   "execution_count": 4,
   "metadata": {},
   "outputs": [],
   "source": [
    "train, validate, test = split(credit)"
   ]
  },
  {
   "cell_type": "markdown",
   "metadata": {},
   "source": [
    "## Exploration"
   ]
  },
  {
   "cell_type": "code",
   "execution_count": 5,
   "metadata": {},
   "outputs": [
    {
     "name": "stdout",
     "output_type": "stream",
     "text": [
      "<class 'pandas.core.frame.DataFrame'>\n",
      "Int64Index: 5670 entries, 7897 to 9853\n",
      "Data columns (total 23 columns):\n",
      " #   Column                      Non-Null Count  Dtype   \n",
      "---  ------                      --------------  -----   \n",
      " 0   churn                       5670 non-null   int64   \n",
      " 1   age                         5670 non-null   int64   \n",
      " 2   gender                      5670 non-null   object  \n",
      " 3   dependents                  5670 non-null   int64   \n",
      " 4   education                   5670 non-null   object  \n",
      " 5   marital_status              5670 non-null   object  \n",
      " 6   income                      5670 non-null   object  \n",
      " 7   card_type                   5670 non-null   object  \n",
      " 8   tenure                      5670 non-null   int64   \n",
      " 9   products_used               5670 non-null   int64   \n",
      " 10  inactive_months_past_year   5670 non-null   int64   \n",
      " 11  contacted_past_year         5670 non-null   int64   \n",
      " 12  credit_limit                5670 non-null   float64 \n",
      " 13  revolving_bal_tot           5670 non-null   int64   \n",
      " 14  avg_open_to_buy             5670 non-null   float64 \n",
      " 15  trans_amt_chng_q4_q1        5670 non-null   float64 \n",
      " 16  tot_trans_amt               5670 non-null   int64   \n",
      " 17  total_trans_ct              5670 non-null   int64   \n",
      " 18  ct_chng_q4_q1               5670 non-null   float64 \n",
      " 19  avg_card_utilization_ratio  5670 non-null   float64 \n",
      " 20  revolving_bal_bin           5670 non-null   category\n",
      " 21  age_bin                     5670 non-null   category\n",
      " 22  card_util_bin               5670 non-null   category\n",
      "dtypes: category(3), float64(5), int64(10), object(5)\n",
      "memory usage: 947.3+ KB\n"
     ]
    }
   ],
   "source": [
    "train.info()"
   ]
  },
  {
   "cell_type": "markdown",
   "metadata": {},
   "source": [
    "### Univariate"
   ]
  },
  {
   "cell_type": "code",
   "execution_count": 6,
   "metadata": {},
   "outputs": [
    {
     "data": {
      "text/plain": [
       "<AxesSubplot:>"
      ]
     },
     "execution_count": 6,
     "metadata": {},
     "output_type": "execute_result"
    },
    {
     "data": {
      "image/png": "[encoded data removed]",
      "text/plain": [
       "<Figure size 432x288 with 1 Axes>"
      ]
     },
     "metadata": {
      "needs_background": "light"
     },
     "output_type": "display_data"
    }
   ],
   "source": [
    "# Churn distribution\n",
    "\n",
    "train.churn.hist()"
   ]
  },
  {
   "cell_type": "code",
   "execution_count": 7,
   "metadata": {},
   "outputs": [
    {
     "data": {
      "text/plain": [
       "(<AxesSubplot:>,\n",
       " count    5670.000000\n",
       " mean       46.414638\n",
       " std         8.043652\n",
       " min        26.000000\n",
       " 25%        41.000000\n",
       " 50%        46.000000\n",
       " 75%        52.000000\n",
       " max        70.000000\n",
       " Name: age, dtype: float64)"
      ]
     },
     "execution_count": 7,
     "metadata": {},
     "output_type": "execute_result"
    },
    {
     "data": {
      "image/png": "[encoded data removed]",
      "text/plain": [
       "<Figure size 432x288 with 1 Axes>"
      ]
     },
     "metadata": {
      "needs_background": "light"
     },
     "output_type": "display_data"
    }
   ],
   "source": [
    "# Age distribution\n",
    "\n",
    "train.age.hist(), train.age.describe()"
   ]
  },
  {
   "cell_type": "code",
   "execution_count": 8,
   "metadata": {},
   "outputs": [
    {
     "data": {
      "text/plain": [
       "<AxesSubplot:>"
      ]
     },
     "execution_count": 8,
     "metadata": {},
     "output_type": "execute_result"
    },
    {
     "data": {
      "image/png": "[encoded data removed]",
      "text/plain": [
       "<Figure size 432x288 with 1 Axes>"
      ]
     },
     "metadata": {
      "needs_background": "light"
     },
     "output_type": "display_data"
    }
   ],
   "source": [
    "# Gender distribution\n",
    "\n",
    "train.gender.hist()"
   ]
  },
  {
   "cell_type": "code",
   "execution_count": 9,
   "metadata": {},
   "outputs": [
    {
     "data": {
      "text/plain": [
       "<AxesSubplot:>"
      ]
     },
     "execution_count": 9,
     "metadata": {},
     "output_type": "execute_result"
    },
    {
     "data": {
      "image/png": "[encoded data removed]",
      "text/plain": [
       "<Figure size 432x288 with 1 Axes>"
      ]
     },
     "metadata": {
      "needs_background": "light"
     },
     "output_type": "display_data"
    }
   ],
   "source": [
    "# Dependents distribution\n",
    "\n",
    "train.dependents.hist()"
   ]
  },
  {
   "cell_type": "code",
   "execution_count": 10,
   "metadata": {},
   "outputs": [
    {
     "data": {
      "text/plain": [
       "<AxesSubplot:>"
      ]
     },
     "execution_count": 10,
     "metadata": {},
     "output_type": "execute_result"
    },
    {
     "data": {
      "image/png": "[encoded data removed]",
      "text/plain": [
       "<Figure size 432x288 with 1 Axes>"
      ]
     },
     "metadata": {
      "needs_background": "light"
     },
     "output_type": "display_data"
    }
   ],
   "source": [
    "# Education distribution\n",
    "\n",
    "train.education.hist()"
   ]
  },
  {
   "cell_type": "code",
   "execution_count": 11,
   "metadata": {},
   "outputs": [
    {
     "data": {
      "text/plain": [
       "<AxesSubplot:>"
      ]
     },
     "execution_count": 11,
     "metadata": {},
     "output_type": "execute_result"
    },
    {
     "data": {
      "image/png": "[encoded data removed]",
      "text/plain": [
       "<Figure size 432x288 with 1 Axes>"
      ]
     },
     "metadata": {
      "needs_background": "light"
     },
     "output_type": "display_data"
    }
   ],
   "source": [
    "# Marital status distribution\n",
    "\n",
    "train.marital_status.hist()"
   ]
  },
  {
   "cell_type": "code",
   "execution_count": 12,
   "metadata": {},
   "outputs": [
    {
     "data": {
      "text/plain": [
       "<AxesSubplot:>"
      ]
     },
     "execution_count": 12,
     "metadata": {},
     "output_type": "execute_result"
    },
    {
     "data": {
      "image/png": "[encoded data removed]",
      "text/plain": [
       "<Figure size 432x288 with 1 Axes>"
      ]
     },
     "metadata": {
      "needs_background": "light"
     },
     "output_type": "display_data"
    }
   ],
   "source": [
    "# Income distribution\n",
    "\n",
    "train.sort_values('income').income.hist()"
   ]
  },
  {
   "cell_type": "code",
   "execution_count": 13,
   "metadata": {},
   "outputs": [
    {
     "data": {
      "text/plain": [
       "<AxesSubplot:>"
      ]
     },
     "execution_count": 13,
     "metadata": {},
     "output_type": "execute_result"
    },
    {
     "data": {
      "image/png": "[encoded data removed]",
      "text/plain": [
       "<Figure size 432x288 with 1 Axes>"
      ]
     },
     "metadata": {
      "needs_background": "light"
     },
     "output_type": "display_data"
    }
   ],
   "source": [
    "# Card type distribution\n",
    "\n",
    "train.card_type.hist()"
   ]
  },
  {
   "cell_type": "code",
   "execution_count": 14,
   "metadata": {},
   "outputs": [
    {
     "data": {
      "text/plain": [
       "(<AxesSubplot:>,\n",
       " count    5670.000000\n",
       " mean       35.986243\n",
       " std         8.055121\n",
       " min        13.000000\n",
       " 25%        32.000000\n",
       " 50%        36.000000\n",
       " 75%        40.000000\n",
       " max        56.000000\n",
       " Name: tenure, dtype: float64)"
      ]
     },
     "execution_count": 14,
     "metadata": {},
     "output_type": "execute_result"
    },
    {
     "data": {
      "image/png": "[encoded data removed]",
      "text/plain": [
       "<Figure size 432x288 with 1 Axes>"
      ]
     },
     "metadata": {
      "needs_background": "light"
     },
     "output_type": "display_data"
    }
   ],
   "source": [
    "# Distribution of months with the bank\n",
    "\n",
    "train.tenure.hist(), train.tenure.describe()"
   ]
  },
  {
   "cell_type": "code",
   "execution_count": 15,
   "metadata": {},
   "outputs": [
    {
     "data": {
      "text/plain": [
       "<AxesSubplot:>"
      ]
     },
     "execution_count": 15,
     "metadata": {},
     "output_type": "execute_result"
    },
    {
     "data": {
      "image/png": "[encoded data removed]",
      "text/plain": [
       "<Figure size 432x288 with 1 Axes>"
      ]
     },
     "metadata": {
      "needs_background": "light"
     },
     "output_type": "display_data"
    }
   ],
   "source": [
    "# Distribution of number of products used by customers\n",
    "\n",
    "train.products_used.hist()"
   ]
  },
  {
   "cell_type": "code",
   "execution_count": 16,
   "metadata": {},
   "outputs": [
    {
     "data": {
      "text/plain": [
       "(<AxesSubplot:>,\n",
       " count    5670.000000\n",
       " mean        2.345150\n",
       " std         1.000048\n",
       " min         0.000000\n",
       " 25%         2.000000\n",
       " 50%         2.000000\n",
       " 75%         3.000000\n",
       " max         6.000000\n",
       " Name: inactive_months_past_year, dtype: float64)"
      ]
     },
     "execution_count": 16,
     "metadata": {},
     "output_type": "execute_result"
    },
    {
     "data": {
      "image/png": "[encoded data removed]",
      "text/plain": [
       "<Figure size 432x288 with 1 Axes>"
      ]
     },
     "metadata": {
      "needs_background": "light"
     },
     "output_type": "display_data"
    }
   ],
   "source": [
    "# Distribution of number of months inactive in the past year\n",
    "\n",
    "train.inactive_months_past_year.hist(), train.inactive_months_past_year.describe()"
   ]
  },
  {
   "cell_type": "code",
   "execution_count": 17,
   "metadata": {},
   "outputs": [
    {
     "data": {
      "text/plain": [
       "<AxesSubplot:>"
      ]
     },
     "execution_count": 17,
     "metadata": {},
     "output_type": "execute_result"
    },
    {
     "data": {
      "image/png": "[encoded data removed]",
      "text/plain": [
       "<Figure size 432x288 with 1 Axes>"
      ]
     },
     "metadata": {
      "needs_background": "light"
     },
     "output_type": "display_data"
    }
   ],
   "source": [
    "# Distribution of times contacting the bank in the past year\n",
    "\n",
    "train.contacted_past_year.hist()"
   ]
  },
  {
   "cell_type": "code",
   "execution_count": 18,
   "metadata": {},
   "outputs": [
    {
     "data": {
      "text/plain": [
       "<AxesSubplot:>"
      ]
     },
     "execution_count": 18,
     "metadata": {},
     "output_type": "execute_result"
    },
    {
     "data": {
      "image/png": "[encoded data removed]",
      "text/plain": [
       "<Figure size 432x288 with 1 Axes>"
      ]
     },
     "metadata": {
      "needs_background": "light"
     },
     "output_type": "display_data"
    }
   ],
   "source": [
    "# Total revolving balance distribution, might be useful to bin these\n",
    "\n",
    "train.revolving_bal_tot.hist()"
   ]
  },
  {
   "cell_type": "code",
   "execution_count": 19,
   "metadata": {},
   "outputs": [
    {
     "data": {
      "text/plain": [
       "<AxesSubplot:>"
      ]
     },
     "execution_count": 19,
     "metadata": {},
     "output_type": "execute_result"
    },
    {
     "data": {
      "image/png": "[encoded data removed]",
      "text/plain": [
       "<Figure size 432x288 with 1 Axes>"
      ]
     },
     "metadata": {
      "needs_background": "light"
     },
     "output_type": "display_data"
    }
   ],
   "source": [
    "# Total transaction amount distribution\n",
    "\n",
    "train.tot_trans_amt.hist()"
   ]
  },
  {
   "cell_type": "code",
   "execution_count": 20,
   "metadata": {},
   "outputs": [
    {
     "data": {
      "text/plain": [
       "<AxesSubplot:>"
      ]
     },
     "execution_count": 20,
     "metadata": {},
     "output_type": "execute_result"
    },
    {
     "data": {
      "image/png": "[encoded data removed]",
      "text/plain": [
       "<Figure size 432x288 with 1 Axes>"
      ]
     },
     "metadata": {
      "needs_background": "light"
     },
     "output_type": "display_data"
    }
   ],
   "source": [
    "# Change in spending from Q4 to Q1 distribution (Calculated Q4/Q1)\n",
    "\n",
    "train.trans_amt_chng_q4_q1.hist()"
   ]
  },
  {
   "cell_type": "code",
   "execution_count": 21,
   "metadata": {},
   "outputs": [
    {
     "data": {
      "text/plain": [
       "<AxesSubplot:>"
      ]
     },
     "execution_count": 21,
     "metadata": {},
     "output_type": "execute_result"
    },
    {
     "data": {
      "image/png": "[encoded data removed]",
      "text/plain": [
       "<Figure size 432x288 with 1 Axes>"
      ]
     },
     "metadata": {
      "needs_background": "light"
     },
     "output_type": "display_data"
    }
   ],
   "source": [
    "# Distribution of average utilization ratio (Credit used/ Available credit)\n",
    "\n",
    "train.avg_card_utilization_ratio.hist()"
   ]
  },
  {
   "cell_type": "markdown",
   "metadata": {},
   "source": [
    "### Bivariate"
   ]
  },
  {
   "cell_type": "code",
   "execution_count": 30,
   "metadata": {},
   "outputs": [
    {
     "data": {
      "text/plain": [
       "(<AxesSubplot:xlabel='income', ylabel='count'>,\n",
       " income\n",
       " $120K +           0.159251\n",
       " $40K - $60K       0.155779\n",
       " $60K - $80K       0.140394\n",
       " $80K - $120K      0.145238\n",
       " Less than $40K    0.174114\n",
       " Name: churn, dtype: float64)"
      ]
     },
     "execution_count": 30,
     "metadata": {},
     "output_type": "execute_result"
    },
    {
     "data": {
      "image/png": "[encoded data removed]",
      "text/plain": [
       "<Figure size 432x288 with 1 Axes>"
      ]
     },
     "metadata": {
      "needs_background": "light"
     },
     "output_type": "display_data"
    }
   ],
   "source": [
    "# Count of churned customers by income group, churn ratios on top\n",
    "# Churned cutomers ratio is pretty even for each income bracket\n",
    "\n",
    "sns.countplot(x = 'income', hue = 'churn', data=train, palette='Blues', ec='black', linewidth=2), train.groupby('income').churn.mean()"
   ]
  },
  {
   "cell_type": "code",
   "execution_count": 23,
   "metadata": {},
   "outputs": [
    {
     "data": {
      "text/plain": [
       "<AxesSubplot:xlabel='inactive_months_past_year', ylabel='count'>"
      ]
     },
     "execution_count": 23,
     "metadata": {},
     "output_type": "execute_result"
    },
    {
     "data": {
      "image/png": "[encoded data removed]",
      "text/plain": [
       "<Figure size 432x288 with 1 Axes>"
      ]
     },
     "metadata": {
      "needs_background": "light"
     },
     "output_type": "display_data"
    }
   ],
   "source": [
    "# Count of churned customers by number of months they were inactive last year\n",
    "# Seems as though there is a directly proportional relationship between inactive months and churn\n",
    "\n",
    "sns.countplot(x = 'inactive_months_past_year', hue = 'churn', data=train, palette='Blues', ec='black', linewidth=2)"
   ]
  },
  {
   "cell_type": "code",
   "execution_count": 24,
   "metadata": {},
   "outputs": [
    {
     "data": {
      "text/plain": [
       "(inactive_months_past_year\n",
       " 0    0.411765\n",
       " 1    0.046229\n",
       " 2    0.156130\n",
       " 3    0.211268\n",
       " 4    0.311203\n",
       " 5    0.136842\n",
       " 6    0.156250\n",
       " Name: churn, dtype: float64,\n",
       " 0.16067019400352733)"
      ]
     },
     "execution_count": 24,
     "metadata": {},
     "output_type": "execute_result"
    }
   ],
   "source": [
    "# Churn ratios by inactive months, with total average churn on the bottom\n",
    "# Peaks at 4 months and then starts to drop off\n",
    "\n",
    "train.groupby('inactive_months_past_year').churn.mean(), train.churn.sum()/5670"
   ]
  },
  {
   "cell_type": "code",
   "execution_count": 25,
   "metadata": {},
   "outputs": [
    {
     "data": {
      "text/plain": [
       "<AxesSubplot:xlabel='tenure', ylabel='churn'>"
      ]
     },
     "execution_count": 25,
     "metadata": {},
     "output_type": "execute_result"
    },
    {
     "data": {
      "image/png": "[encoded data removed]",
      "text/plain": [
       "<Figure size 432x288 with 1 Axes>"
      ]
     },
     "metadata": {
      "needs_background": "light"
     },
     "output_type": "display_data"
    }
   ],
   "source": [
    "# Plotting tenure with churn frequency\n",
    "# More varied in the first few months but then starts to even out\n",
    "\n",
    "sns.lineplot(x = 'tenure', y = 'churn', data = train)"
   ]
  },
  {
   "cell_type": "code",
   "execution_count": 26,
   "metadata": {},
   "outputs": [
    {
     "data": {
      "text/plain": [
       "(<AxesSubplot:xlabel='card_type', ylabel='count'>,\n",
       " card_type\n",
       " Blue        0.162505\n",
       " Gold        0.101695\n",
       " Platinum    0.222222\n",
       " Silver      0.139241\n",
       " Name: churn, dtype: float64)"
      ]
     },
     "execution_count": 26,
     "metadata": {},
     "output_type": "execute_result"
    },
    {
     "data": {
      "image/png": "[encoded data removed]",
      "text/plain": [
       "<Figure size 432x288 with 1 Axes>"
      ]
     },
     "metadata": {
      "needs_background": "light"
     },
     "output_type": "display_data"
    }
   ],
   "source": [
    "# Churn count grouped by the type of card the customer has, churn ratios on top\n",
    "\n",
    "sns.countplot(x = 'card_type', hue = 'churn', data=train, palette='Blues', ec='black', linewidth=2), train.groupby('card_type').churn.mean()"
   ]
  },
  {
   "cell_type": "code",
   "execution_count": 27,
   "metadata": {},
   "outputs": [
    {
     "data": {
      "text/plain": [
       "<AxesSubplot:xlabel='dependents', ylabel='count'>"
      ]
     },
     "execution_count": 27,
     "metadata": {},
     "output_type": "execute_result"
    },
    {
     "data": {
      "image/png": "[encoded data removed]",
      "text/plain": [
       "<Figure size 432x288 with 1 Axes>"
      ]
     },
     "metadata": {
      "needs_background": "light"
     },
     "output_type": "display_data"
    }
   ],
   "source": [
    "# Churn count grouped by the number of dependents \n",
    "\n",
    "sns.countplot(x = 'dependents', hue = 'churn', data=train, palette='Blues', ec='black', linewidth=2)"
   ]
  },
  {
   "cell_type": "code",
   "execution_count": 28,
   "metadata": {},
   "outputs": [
    {
     "data": {
      "text/plain": [
       "(<AxesSubplot:xlabel='education', ylabel='count'>,\n",
       " education\n",
       " College          0.153713\n",
       " Doctorate        0.202479\n",
       " Graduate         0.158282\n",
       " High School      0.153914\n",
       " Post-Graduate    0.185315\n",
       " Uneducated       0.161520\n",
       " Name: churn, dtype: float64)"
      ]
     },
     "execution_count": 28,
     "metadata": {},
     "output_type": "execute_result"
    },
    {
     "data": {
      "image/png": "[encoded data removed]",
      "text/plain": [
       "<Figure size 432x288 with 1 Axes>"
      ]
     },
     "metadata": {
      "needs_background": "light"
     },
     "output_type": "display_data"
    }
   ],
   "source": [
    "# Churn counts grouped by education level\n",
    "\n",
    "sns.countplot(x = 'education', hue = 'churn', data=train, palette='Blues', ec='black', linewidth=2), train.groupby('education').churn.mean()"
   ]
  },
  {
   "cell_type": "code",
   "execution_count": 31,
   "metadata": {},
   "outputs": [
    {
     "data": {
      "text/html": [
       "<div>\n",
       "<style scoped>\n",
       "    .dataframe tbody tr th:only-of-type {\n",
       "        vertical-align: middle;\n",
       "    }\n",
       "\n",
       "    .dataframe tbody tr th {\n",
       "        vertical-align: top;\n",
       "    }\n",
       "\n",
       "    .dataframe thead th {\n",
       "        text-align: right;\n",
       "    }\n",
       "</style>\n",
       "<table border=\"1\" class=\"dataframe\">\n",
       "  <thead>\n",
       "    <tr style=\"text-align: right;\">\n",
       "      <th></th>\n",
       "      <th>churn</th>\n",
       "      <th>age</th>\n",
       "      <th>gender</th>\n",
       "      <th>dependents</th>\n",
       "      <th>education</th>\n",
       "      <th>marital_status</th>\n",
       "      <th>income</th>\n",
       "      <th>card_type</th>\n",
       "      <th>tenure</th>\n",
       "      <th>products_used</th>\n",
       "      <th>...</th>\n",
       "      <th>revolving_bal_tot</th>\n",
       "      <th>avg_open_to_buy</th>\n",
       "      <th>trans_amt_chng_q4_q1</th>\n",
       "      <th>tot_trans_amt</th>\n",
       "      <th>total_trans_ct</th>\n",
       "      <th>ct_chng_q4_q1</th>\n",
       "      <th>avg_card_utilization_ratio</th>\n",
       "      <th>revolving_bal_bin</th>\n",
       "      <th>age_bin</th>\n",
       "      <th>card_util_bin</th>\n",
       "    </tr>\n",
       "  </thead>\n",
       "  <tbody>\n",
       "    <tr>\n",
       "      <th>7897</th>\n",
       "      <td>1</td>\n",
       "      <td>40</td>\n",
       "      <td>F</td>\n",
       "      <td>3</td>\n",
       "      <td>Doctorate</td>\n",
       "      <td>Married</td>\n",
       "      <td>Less than $40K</td>\n",
       "      <td>Blue</td>\n",
       "      <td>21</td>\n",
       "      <td>5</td>\n",
       "      <td>...</td>\n",
       "      <td>0</td>\n",
       "      <td>1728.0</td>\n",
       "      <td>0.410</td>\n",
       "      <td>2191</td>\n",
       "      <td>38</td>\n",
       "      <td>0.357</td>\n",
       "      <td>0.000</td>\n",
       "      <td>0 - 1000</td>\n",
       "      <td>30-40</td>\n",
       "      <td>0-20%</td>\n",
       "    </tr>\n",
       "    <tr>\n",
       "      <th>1</th>\n",
       "      <td>0</td>\n",
       "      <td>49</td>\n",
       "      <td>F</td>\n",
       "      <td>5</td>\n",
       "      <td>Graduate</td>\n",
       "      <td>Single</td>\n",
       "      <td>Less than $40K</td>\n",
       "      <td>Blue</td>\n",
       "      <td>44</td>\n",
       "      <td>6</td>\n",
       "      <td>...</td>\n",
       "      <td>864</td>\n",
       "      <td>7392.0</td>\n",
       "      <td>1.541</td>\n",
       "      <td>1291</td>\n",
       "      <td>33</td>\n",
       "      <td>3.714</td>\n",
       "      <td>0.105</td>\n",
       "      <td>0 - 1000</td>\n",
       "      <td>40-50</td>\n",
       "      <td>0-20%</td>\n",
       "    </tr>\n",
       "    <tr>\n",
       "      <th>2304</th>\n",
       "      <td>0</td>\n",
       "      <td>41</td>\n",
       "      <td>M</td>\n",
       "      <td>3</td>\n",
       "      <td>Post-Graduate</td>\n",
       "      <td>Married</td>\n",
       "      <td>$60K - $80K</td>\n",
       "      <td>Blue</td>\n",
       "      <td>34</td>\n",
       "      <td>4</td>\n",
       "      <td>...</td>\n",
       "      <td>1319</td>\n",
       "      <td>1305.0</td>\n",
       "      <td>0.768</td>\n",
       "      <td>4189</td>\n",
       "      <td>74</td>\n",
       "      <td>0.609</td>\n",
       "      <td>0.503</td>\n",
       "      <td>1000 - 2000</td>\n",
       "      <td>40-50</td>\n",
       "      <td>40-60%</td>\n",
       "    </tr>\n",
       "    <tr>\n",
       "      <th>3192</th>\n",
       "      <td>0</td>\n",
       "      <td>39</td>\n",
       "      <td>M</td>\n",
       "      <td>2</td>\n",
       "      <td>Uneducated</td>\n",
       "      <td>Single</td>\n",
       "      <td>$40K - $60K</td>\n",
       "      <td>Blue</td>\n",
       "      <td>25</td>\n",
       "      <td>4</td>\n",
       "      <td>...</td>\n",
       "      <td>1426</td>\n",
       "      <td>7695.0</td>\n",
       "      <td>0.666</td>\n",
       "      <td>4112</td>\n",
       "      <td>80</td>\n",
       "      <td>0.481</td>\n",
       "      <td>0.156</td>\n",
       "      <td>1000 - 2000</td>\n",
       "      <td>30-40</td>\n",
       "      <td>0-20%</td>\n",
       "    </tr>\n",
       "    <tr>\n",
       "      <th>8491</th>\n",
       "      <td>0</td>\n",
       "      <td>49</td>\n",
       "      <td>F</td>\n",
       "      <td>3</td>\n",
       "      <td>Graduate</td>\n",
       "      <td>Single</td>\n",
       "      <td>$40K - $60K</td>\n",
       "      <td>Blue</td>\n",
       "      <td>32</td>\n",
       "      <td>1</td>\n",
       "      <td>...</td>\n",
       "      <td>1426</td>\n",
       "      <td>3974.0</td>\n",
       "      <td>0.595</td>\n",
       "      <td>4643</td>\n",
       "      <td>80</td>\n",
       "      <td>0.702</td>\n",
       "      <td>0.264</td>\n",
       "      <td>1000 - 2000</td>\n",
       "      <td>40-50</td>\n",
       "      <td>20-40%</td>\n",
       "    </tr>\n",
       "    <tr>\n",
       "      <th>...</th>\n",
       "      <td>...</td>\n",
       "      <td>...</td>\n",
       "      <td>...</td>\n",
       "      <td>...</td>\n",
       "      <td>...</td>\n",
       "      <td>...</td>\n",
       "      <td>...</td>\n",
       "      <td>...</td>\n",
       "      <td>...</td>\n",
       "      <td>...</td>\n",
       "      <td>...</td>\n",
       "      <td>...</td>\n",
       "      <td>...</td>\n",
       "      <td>...</td>\n",
       "      <td>...</td>\n",
       "      <td>...</td>\n",
       "      <td>...</td>\n",
       "      <td>...</td>\n",
       "      <td>...</td>\n",
       "      <td>...</td>\n",
       "      <td>...</td>\n",
       "    </tr>\n",
       "    <tr>\n",
       "      <th>9692</th>\n",
       "      <td>0</td>\n",
       "      <td>56</td>\n",
       "      <td>M</td>\n",
       "      <td>2</td>\n",
       "      <td>Graduate</td>\n",
       "      <td>Single</td>\n",
       "      <td>$120K +</td>\n",
       "      <td>Blue</td>\n",
       "      <td>45</td>\n",
       "      <td>2</td>\n",
       "      <td>...</td>\n",
       "      <td>898</td>\n",
       "      <td>10816.0</td>\n",
       "      <td>0.726</td>\n",
       "      <td>13956</td>\n",
       "      <td>122</td>\n",
       "      <td>0.718</td>\n",
       "      <td>0.077</td>\n",
       "      <td>0 - 1000</td>\n",
       "      <td>50-60</td>\n",
       "      <td>0-20%</td>\n",
       "    </tr>\n",
       "    <tr>\n",
       "      <th>3225</th>\n",
       "      <td>0</td>\n",
       "      <td>42</td>\n",
       "      <td>M</td>\n",
       "      <td>3</td>\n",
       "      <td>Post-Graduate</td>\n",
       "      <td>Married</td>\n",
       "      <td>$40K - $60K</td>\n",
       "      <td>Blue</td>\n",
       "      <td>29</td>\n",
       "      <td>3</td>\n",
       "      <td>...</td>\n",
       "      <td>1126</td>\n",
       "      <td>1407.0</td>\n",
       "      <td>0.788</td>\n",
       "      <td>3436</td>\n",
       "      <td>74</td>\n",
       "      <td>0.574</td>\n",
       "      <td>0.445</td>\n",
       "      <td>1000 - 2000</td>\n",
       "      <td>40-50</td>\n",
       "      <td>40-60%</td>\n",
       "    </tr>\n",
       "    <tr>\n",
       "      <th>5570</th>\n",
       "      <td>0</td>\n",
       "      <td>43</td>\n",
       "      <td>F</td>\n",
       "      <td>3</td>\n",
       "      <td>Graduate</td>\n",
       "      <td>Single</td>\n",
       "      <td>$40K - $60K</td>\n",
       "      <td>Blue</td>\n",
       "      <td>36</td>\n",
       "      <td>5</td>\n",
       "      <td>...</td>\n",
       "      <td>1686</td>\n",
       "      <td>908.0</td>\n",
       "      <td>0.624</td>\n",
       "      <td>4503</td>\n",
       "      <td>67</td>\n",
       "      <td>0.811</td>\n",
       "      <td>0.650</td>\n",
       "      <td>1000 - 2000</td>\n",
       "      <td>40-50</td>\n",
       "      <td>60-80%</td>\n",
       "    </tr>\n",
       "    <tr>\n",
       "      <th>8441</th>\n",
       "      <td>0</td>\n",
       "      <td>47</td>\n",
       "      <td>F</td>\n",
       "      <td>4</td>\n",
       "      <td>Graduate</td>\n",
       "      <td>Single</td>\n",
       "      <td>Less than $40K</td>\n",
       "      <td>Blue</td>\n",
       "      <td>34</td>\n",
       "      <td>1</td>\n",
       "      <td>...</td>\n",
       "      <td>860</td>\n",
       "      <td>4896.0</td>\n",
       "      <td>0.708</td>\n",
       "      <td>5298</td>\n",
       "      <td>72</td>\n",
       "      <td>0.714</td>\n",
       "      <td>0.149</td>\n",
       "      <td>0 - 1000</td>\n",
       "      <td>40-50</td>\n",
       "      <td>0-20%</td>\n",
       "    </tr>\n",
       "    <tr>\n",
       "      <th>9853</th>\n",
       "      <td>0</td>\n",
       "      <td>61</td>\n",
       "      <td>M</td>\n",
       "      <td>2</td>\n",
       "      <td>Uneducated</td>\n",
       "      <td>Married</td>\n",
       "      <td>$60K - $80K</td>\n",
       "      <td>Blue</td>\n",
       "      <td>48</td>\n",
       "      <td>4</td>\n",
       "      <td>...</td>\n",
       "      <td>0</td>\n",
       "      <td>18571.0</td>\n",
       "      <td>0.594</td>\n",
       "      <td>15802</td>\n",
       "      <td>118</td>\n",
       "      <td>0.686</td>\n",
       "      <td>0.000</td>\n",
       "      <td>0 - 1000</td>\n",
       "      <td>60+</td>\n",
       "      <td>0-20%</td>\n",
       "    </tr>\n",
       "  </tbody>\n",
       "</table>\n",
       "<p>5670 rows × 23 columns</p>\n",
       "</div>"
      ],
      "text/plain": [
       "      churn  age gender  dependents      education marital_status  \\\n",
       "7897      1   40      F           3      Doctorate        Married   \n",
       "1         0   49      F           5       Graduate         Single   \n",
       "2304      0   41      M           3  Post-Graduate        Married   \n",
       "3192      0   39      M           2     Uneducated         Single   \n",
       "8491      0   49      F           3       Graduate         Single   \n",
       "...     ...  ...    ...         ...            ...            ...   \n",
       "9692      0   56      M           2       Graduate         Single   \n",
       "3225      0   42      M           3  Post-Graduate        Married   \n",
       "5570      0   43      F           3       Graduate         Single   \n",
       "8441      0   47      F           4       Graduate         Single   \n",
       "9853      0   61      M           2     Uneducated        Married   \n",
       "\n",
       "              income card_type  tenure  products_used  ...  revolving_bal_tot  \\\n",
       "7897  Less than $40K      Blue      21              5  ...                  0   \n",
       "1     Less than $40K      Blue      44              6  ...                864   \n",
       "2304     $60K - $80K      Blue      34              4  ...               1319   \n",
       "3192     $40K - $60K      Blue      25              4  ...               1426   \n",
       "8491     $40K - $60K      Blue      32              1  ...               1426   \n",
       "...              ...       ...     ...            ...  ...                ...   \n",
       "9692         $120K +      Blue      45              2  ...                898   \n",
       "3225     $40K - $60K      Blue      29              3  ...               1126   \n",
       "5570     $40K - $60K      Blue      36              5  ...               1686   \n",
       "8441  Less than $40K      Blue      34              1  ...                860   \n",
       "9853     $60K - $80K      Blue      48              4  ...                  0   \n",
       "\n",
       "      avg_open_to_buy  trans_amt_chng_q4_q1  tot_trans_amt  total_trans_ct  \\\n",
       "7897           1728.0                 0.410           2191              38   \n",
       "1              7392.0                 1.541           1291              33   \n",
       "2304           1305.0                 0.768           4189              74   \n",
       "3192           7695.0                 0.666           4112              80   \n",
       "8491           3974.0                 0.595           4643              80   \n",
       "...               ...                   ...            ...             ...   \n",
       "9692          10816.0                 0.726          13956             122   \n",
       "3225           1407.0                 0.788           3436              74   \n",
       "5570            908.0                 0.624           4503              67   \n",
       "8441           4896.0                 0.708           5298              72   \n",
       "9853          18571.0                 0.594          15802             118   \n",
       "\n",
       "      ct_chng_q4_q1  avg_card_utilization_ratio  revolving_bal_bin  age_bin  \\\n",
       "7897          0.357                       0.000           0 - 1000    30-40   \n",
       "1             3.714                       0.105           0 - 1000    40-50   \n",
       "2304          0.609                       0.503        1000 - 2000    40-50   \n",
       "3192          0.481                       0.156        1000 - 2000    30-40   \n",
       "8491          0.702                       0.264        1000 - 2000    40-50   \n",
       "...             ...                         ...                ...      ...   \n",
       "9692          0.718                       0.077           0 - 1000    50-60   \n",
       "3225          0.574                       0.445        1000 - 2000    40-50   \n",
       "5570          0.811                       0.650        1000 - 2000    40-50   \n",
       "8441          0.714                       0.149           0 - 1000    40-50   \n",
       "9853          0.686                       0.000           0 - 1000      60+   \n",
       "\n",
       "      card_util_bin  \n",
       "7897          0-20%  \n",
       "1             0-20%  \n",
       "2304         40-60%  \n",
       "3192          0-20%  \n",
       "8491         20-40%  \n",
       "...             ...  \n",
       "9692          0-20%  \n",
       "3225         40-60%  \n",
       "5570         60-80%  \n",
       "8441          0-20%  \n",
       "9853          0-20%  \n",
       "\n",
       "[5670 rows x 23 columns]"
      ]
     },
     "execution_count": 31,
     "metadata": {},
     "output_type": "execute_result"
    }
   ],
   "source": [
    "train"
   ]
  },
  {
   "cell_type": "code",
   "execution_count": 32,
   "metadata": {},
   "outputs": [
    {
     "data": {
      "text/plain": [
       "<AxesSubplot:xlabel='revolving_bal_bin', ylabel='count'>"
      ]
     },
     "execution_count": 32,
     "metadata": {},
     "output_type": "execute_result"
    },
    {
     "data": {
      "image/png": "[encoded data removed]",
      "text/plain": [
       "<Figure size 432x288 with 1 Axes>"
      ]
     },
     "metadata": {
      "needs_background": "light"
     },
     "output_type": "display_data"
    }
   ],
   "source": [
    "# Churn counts grouped by revolving balance\n",
    "\n",
    "sns.countplot(x = 'revolving_bal_bin', hue = 'churn', data=train, palette='Blues', ec='black', linewidth=2)"
   ]
  },
  {
   "cell_type": "code",
   "execution_count": null,
   "metadata": {},
   "outputs": [],
   "source": []
  }
 ],
 "metadata": {
  "kernelspec": {
   "display_name": "Python 3",
   "language": "python",
   "name": "python3"
  },
  "language_info": {
   "codemirror_mode": {
    "name": "ipython",
    "version": 3
   },
   "file_extension": ".py",
   "mimetype": "text/x-python",
   "name": "python",
   "nbconvert_exporter": "python",
   "pygments_lexer": "ipython3",
   "version": "3.8.5"
  }
 },
 "nbformat": 4,
 "nbformat_minor": 4
}
