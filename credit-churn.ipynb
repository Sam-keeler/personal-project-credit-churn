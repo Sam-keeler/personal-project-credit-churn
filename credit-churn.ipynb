{
 "cells": [
  {
   "cell_type": "markdown",
   "metadata": {},
   "source": [
    "## Importing packages"
   ]
  },
  {
   "cell_type": "code",
   "execution_count": 1,
   "metadata": {},
   "outputs": [],
   "source": [
    "import matplotlib.pyplot as plt\n",
    "import numpy as np\n",
    "import pandas as pd\n",
    "from scipy import stats\n",
    "from datetime import date\n",
    "import seaborn as sns\n",
    "from pydataset import data\n",
    "from wrangle import acquire, prepare, split\n",
    "from sklearn.model_selection import train_test_split\n",
    "from sklearn.tree import DecisionTreeClassifier\n",
    "from sklearn.ensemble import RandomForestClassifier\n",
    "from sklearn.neighbors import KNeighborsClassifier\n",
    "from sklearn.linear_model import LogisticRegression\n",
    "from sklearn.metrics import classification_report\n",
    "from sklearn.metrics import confusion_matrix"
   ]
  },
  {
   "cell_type": "markdown",
   "metadata": {},
   "source": [
    "## Acquiring data from local file"
   ]
  },
  {
   "cell_type": "code",
   "execution_count": 2,
   "metadata": {},
   "outputs": [],
   "source": [
    "credit = acquire()"
   ]
  },
  {
   "cell_type": "markdown",
   "metadata": {},
   "source": [
    "## Preparing the data"
   ]
  },
  {
   "cell_type": "code",
   "execution_count": 3,
   "metadata": {},
   "outputs": [],
   "source": [
    "credit = prepare(credit)"
   ]
  },
  {
   "cell_type": "markdown",
   "metadata": {},
   "source": [
    "## Splitting the data"
   ]
  },
  {
   "cell_type": "code",
   "execution_count": 4,
   "metadata": {},
   "outputs": [],
   "source": [
    "train, validate, test = split(credit)"
   ]
  },
  {
   "cell_type": "markdown",
   "metadata": {},
   "source": [
    "## Exploration"
   ]
  },
  {
   "cell_type": "code",
   "execution_count": 10,
   "metadata": {},
   "outputs": [
    {
     "data": {
      "text/html": [
       "<div>\n",
       "<style scoped>\n",
       "    .dataframe tbody tr th:only-of-type {\n",
       "        vertical-align: middle;\n",
       "    }\n",
       "\n",
       "    .dataframe tbody tr th {\n",
       "        vertical-align: top;\n",
       "    }\n",
       "\n",
       "    .dataframe thead th {\n",
       "        text-align: right;\n",
       "    }\n",
       "</style>\n",
       "<table border=\"1\" class=\"dataframe\">\n",
       "  <thead>\n",
       "    <tr style=\"text-align: right;\">\n",
       "      <th></th>\n",
       "      <th>churn</th>\n",
       "      <th>age</th>\n",
       "      <th>gender</th>\n",
       "      <th>dependents</th>\n",
       "      <th>education</th>\n",
       "      <th>marital_status</th>\n",
       "      <th>income</th>\n",
       "      <th>card_type</th>\n",
       "      <th>tenure</th>\n",
       "      <th>products_used</th>\n",
       "      <th>inactive_months_past_year</th>\n",
       "      <th>contacted_past_year</th>\n",
       "      <th>credit_limit</th>\n",
       "      <th>revolving_bal_tot</th>\n",
       "      <th>avg_open_to_buy</th>\n",
       "      <th>trans_amt_chng_q4_q1</th>\n",
       "      <th>tot_trans_amt</th>\n",
       "      <th>total_trans_ct</th>\n",
       "      <th>ct_chng_q4_q1</th>\n",
       "      <th>avg_card_utilization_ratio</th>\n",
       "    </tr>\n",
       "  </thead>\n",
       "  <tbody>\n",
       "    <tr>\n",
       "      <th>7897</th>\n",
       "      <td>1</td>\n",
       "      <td>40</td>\n",
       "      <td>F</td>\n",
       "      <td>3</td>\n",
       "      <td>Doctorate</td>\n",
       "      <td>Married</td>\n",
       "      <td>Less than $40K</td>\n",
       "      <td>Blue</td>\n",
       "      <td>21</td>\n",
       "      <td>5</td>\n",
       "      <td>2</td>\n",
       "      <td>2</td>\n",
       "      <td>1728.0</td>\n",
       "      <td>0</td>\n",
       "      <td>1728.0</td>\n",
       "      <td>0.410</td>\n",
       "      <td>2191</td>\n",
       "      <td>38</td>\n",
       "      <td>0.357</td>\n",
       "      <td>0.000</td>\n",
       "    </tr>\n",
       "    <tr>\n",
       "      <th>1</th>\n",
       "      <td>0</td>\n",
       "      <td>49</td>\n",
       "      <td>F</td>\n",
       "      <td>5</td>\n",
       "      <td>Graduate</td>\n",
       "      <td>Single</td>\n",
       "      <td>Less than $40K</td>\n",
       "      <td>Blue</td>\n",
       "      <td>44</td>\n",
       "      <td>6</td>\n",
       "      <td>1</td>\n",
       "      <td>2</td>\n",
       "      <td>8256.0</td>\n",
       "      <td>864</td>\n",
       "      <td>7392.0</td>\n",
       "      <td>1.541</td>\n",
       "      <td>1291</td>\n",
       "      <td>33</td>\n",
       "      <td>3.714</td>\n",
       "      <td>0.105</td>\n",
       "    </tr>\n",
       "    <tr>\n",
       "      <th>2304</th>\n",
       "      <td>0</td>\n",
       "      <td>41</td>\n",
       "      <td>M</td>\n",
       "      <td>3</td>\n",
       "      <td>Post-Graduate</td>\n",
       "      <td>Married</td>\n",
       "      <td>$60K - $80K</td>\n",
       "      <td>Blue</td>\n",
       "      <td>34</td>\n",
       "      <td>4</td>\n",
       "      <td>2</td>\n",
       "      <td>2</td>\n",
       "      <td>2624.0</td>\n",
       "      <td>1319</td>\n",
       "      <td>1305.0</td>\n",
       "      <td>0.768</td>\n",
       "      <td>4189</td>\n",
       "      <td>74</td>\n",
       "      <td>0.609</td>\n",
       "      <td>0.503</td>\n",
       "    </tr>\n",
       "    <tr>\n",
       "      <th>3192</th>\n",
       "      <td>0</td>\n",
       "      <td>39</td>\n",
       "      <td>M</td>\n",
       "      <td>2</td>\n",
       "      <td>Uneducated</td>\n",
       "      <td>Single</td>\n",
       "      <td>$40K - $60K</td>\n",
       "      <td>Blue</td>\n",
       "      <td>25</td>\n",
       "      <td>4</td>\n",
       "      <td>1</td>\n",
       "      <td>3</td>\n",
       "      <td>9121.0</td>\n",
       "      <td>1426</td>\n",
       "      <td>7695.0</td>\n",
       "      <td>0.666</td>\n",
       "      <td>4112</td>\n",
       "      <td>80</td>\n",
       "      <td>0.481</td>\n",
       "      <td>0.156</td>\n",
       "    </tr>\n",
       "    <tr>\n",
       "      <th>8491</th>\n",
       "      <td>0</td>\n",
       "      <td>49</td>\n",
       "      <td>F</td>\n",
       "      <td>3</td>\n",
       "      <td>Graduate</td>\n",
       "      <td>Single</td>\n",
       "      <td>$40K - $60K</td>\n",
       "      <td>Blue</td>\n",
       "      <td>32</td>\n",
       "      <td>1</td>\n",
       "      <td>3</td>\n",
       "      <td>3</td>\n",
       "      <td>5400.0</td>\n",
       "      <td>1426</td>\n",
       "      <td>3974.0</td>\n",
       "      <td>0.595</td>\n",
       "      <td>4643</td>\n",
       "      <td>80</td>\n",
       "      <td>0.702</td>\n",
       "      <td>0.264</td>\n",
       "    </tr>\n",
       "    <tr>\n",
       "      <th>...</th>\n",
       "      <td>...</td>\n",
       "      <td>...</td>\n",
       "      <td>...</td>\n",
       "      <td>...</td>\n",
       "      <td>...</td>\n",
       "      <td>...</td>\n",
       "      <td>...</td>\n",
       "      <td>...</td>\n",
       "      <td>...</td>\n",
       "      <td>...</td>\n",
       "      <td>...</td>\n",
       "      <td>...</td>\n",
       "      <td>...</td>\n",
       "      <td>...</td>\n",
       "      <td>...</td>\n",
       "      <td>...</td>\n",
       "      <td>...</td>\n",
       "      <td>...</td>\n",
       "      <td>...</td>\n",
       "      <td>...</td>\n",
       "    </tr>\n",
       "    <tr>\n",
       "      <th>9692</th>\n",
       "      <td>0</td>\n",
       "      <td>56</td>\n",
       "      <td>M</td>\n",
       "      <td>2</td>\n",
       "      <td>Graduate</td>\n",
       "      <td>Single</td>\n",
       "      <td>$120K +</td>\n",
       "      <td>Blue</td>\n",
       "      <td>45</td>\n",
       "      <td>2</td>\n",
       "      <td>2</td>\n",
       "      <td>3</td>\n",
       "      <td>11714.0</td>\n",
       "      <td>898</td>\n",
       "      <td>10816.0</td>\n",
       "      <td>0.726</td>\n",
       "      <td>13956</td>\n",
       "      <td>122</td>\n",
       "      <td>0.718</td>\n",
       "      <td>0.077</td>\n",
       "    </tr>\n",
       "    <tr>\n",
       "      <th>3225</th>\n",
       "      <td>0</td>\n",
       "      <td>42</td>\n",
       "      <td>M</td>\n",
       "      <td>3</td>\n",
       "      <td>Post-Graduate</td>\n",
       "      <td>Married</td>\n",
       "      <td>$40K - $60K</td>\n",
       "      <td>Blue</td>\n",
       "      <td>29</td>\n",
       "      <td>3</td>\n",
       "      <td>3</td>\n",
       "      <td>4</td>\n",
       "      <td>2533.0</td>\n",
       "      <td>1126</td>\n",
       "      <td>1407.0</td>\n",
       "      <td>0.788</td>\n",
       "      <td>3436</td>\n",
       "      <td>74</td>\n",
       "      <td>0.574</td>\n",
       "      <td>0.445</td>\n",
       "    </tr>\n",
       "    <tr>\n",
       "      <th>5570</th>\n",
       "      <td>0</td>\n",
       "      <td>43</td>\n",
       "      <td>F</td>\n",
       "      <td>3</td>\n",
       "      <td>Graduate</td>\n",
       "      <td>Single</td>\n",
       "      <td>$40K - $60K</td>\n",
       "      <td>Blue</td>\n",
       "      <td>36</td>\n",
       "      <td>5</td>\n",
       "      <td>2</td>\n",
       "      <td>4</td>\n",
       "      <td>2594.0</td>\n",
       "      <td>1686</td>\n",
       "      <td>908.0</td>\n",
       "      <td>0.624</td>\n",
       "      <td>4503</td>\n",
       "      <td>67</td>\n",
       "      <td>0.811</td>\n",
       "      <td>0.650</td>\n",
       "    </tr>\n",
       "    <tr>\n",
       "      <th>8441</th>\n",
       "      <td>0</td>\n",
       "      <td>47</td>\n",
       "      <td>F</td>\n",
       "      <td>4</td>\n",
       "      <td>Graduate</td>\n",
       "      <td>Single</td>\n",
       "      <td>Less than $40K</td>\n",
       "      <td>Blue</td>\n",
       "      <td>34</td>\n",
       "      <td>1</td>\n",
       "      <td>3</td>\n",
       "      <td>2</td>\n",
       "      <td>5756.0</td>\n",
       "      <td>860</td>\n",
       "      <td>4896.0</td>\n",
       "      <td>0.708</td>\n",
       "      <td>5298</td>\n",
       "      <td>72</td>\n",
       "      <td>0.714</td>\n",
       "      <td>0.149</td>\n",
       "    </tr>\n",
       "    <tr>\n",
       "      <th>9853</th>\n",
       "      <td>0</td>\n",
       "      <td>61</td>\n",
       "      <td>M</td>\n",
       "      <td>2</td>\n",
       "      <td>Uneducated</td>\n",
       "      <td>Married</td>\n",
       "      <td>$60K - $80K</td>\n",
       "      <td>Blue</td>\n",
       "      <td>48</td>\n",
       "      <td>4</td>\n",
       "      <td>1</td>\n",
       "      <td>2</td>\n",
       "      <td>18571.0</td>\n",
       "      <td>0</td>\n",
       "      <td>18571.0</td>\n",
       "      <td>0.594</td>\n",
       "      <td>15802</td>\n",
       "      <td>118</td>\n",
       "      <td>0.686</td>\n",
       "      <td>0.000</td>\n",
       "    </tr>\n",
       "  </tbody>\n",
       "</table>\n",
       "<p>5670 rows × 20 columns</p>\n",
       "</div>"
      ],
      "text/plain": [
       "      churn  age gender  dependents      education marital_status  \\\n",
       "7897      1   40      F           3      Doctorate        Married   \n",
       "1         0   49      F           5       Graduate         Single   \n",
       "2304      0   41      M           3  Post-Graduate        Married   \n",
       "3192      0   39      M           2     Uneducated         Single   \n",
       "8491      0   49      F           3       Graduate         Single   \n",
       "...     ...  ...    ...         ...            ...            ...   \n",
       "9692      0   56      M           2       Graduate         Single   \n",
       "3225      0   42      M           3  Post-Graduate        Married   \n",
       "5570      0   43      F           3       Graduate         Single   \n",
       "8441      0   47      F           4       Graduate         Single   \n",
       "9853      0   61      M           2     Uneducated        Married   \n",
       "\n",
       "              income card_type  tenure  products_used  \\\n",
       "7897  Less than $40K      Blue      21              5   \n",
       "1     Less than $40K      Blue      44              6   \n",
       "2304     $60K - $80K      Blue      34              4   \n",
       "3192     $40K - $60K      Blue      25              4   \n",
       "8491     $40K - $60K      Blue      32              1   \n",
       "...              ...       ...     ...            ...   \n",
       "9692         $120K +      Blue      45              2   \n",
       "3225     $40K - $60K      Blue      29              3   \n",
       "5570     $40K - $60K      Blue      36              5   \n",
       "8441  Less than $40K      Blue      34              1   \n",
       "9853     $60K - $80K      Blue      48              4   \n",
       "\n",
       "      inactive_months_past_year  contacted_past_year  credit_limit  \\\n",
       "7897                          2                    2        1728.0   \n",
       "1                             1                    2        8256.0   \n",
       "2304                          2                    2        2624.0   \n",
       "3192                          1                    3        9121.0   \n",
       "8491                          3                    3        5400.0   \n",
       "...                         ...                  ...           ...   \n",
       "9692                          2                    3       11714.0   \n",
       "3225                          3                    4        2533.0   \n",
       "5570                          2                    4        2594.0   \n",
       "8441                          3                    2        5756.0   \n",
       "9853                          1                    2       18571.0   \n",
       "\n",
       "      revolving_bal_tot  avg_open_to_buy  trans_amt_chng_q4_q1  tot_trans_amt  \\\n",
       "7897                  0           1728.0                 0.410           2191   \n",
       "1                   864           7392.0                 1.541           1291   \n",
       "2304               1319           1305.0                 0.768           4189   \n",
       "3192               1426           7695.0                 0.666           4112   \n",
       "8491               1426           3974.0                 0.595           4643   \n",
       "...                 ...              ...                   ...            ...   \n",
       "9692                898          10816.0                 0.726          13956   \n",
       "3225               1126           1407.0                 0.788           3436   \n",
       "5570               1686            908.0                 0.624           4503   \n",
       "8441                860           4896.0                 0.708           5298   \n",
       "9853                  0          18571.0                 0.594          15802   \n",
       "\n",
       "      total_trans_ct  ct_chng_q4_q1  avg_card_utilization_ratio  \n",
       "7897              38          0.357                       0.000  \n",
       "1                 33          3.714                       0.105  \n",
       "2304              74          0.609                       0.503  \n",
       "3192              80          0.481                       0.156  \n",
       "8491              80          0.702                       0.264  \n",
       "...              ...            ...                         ...  \n",
       "9692             122          0.718                       0.077  \n",
       "3225              74          0.574                       0.445  \n",
       "5570              67          0.811                       0.650  \n",
       "8441              72          0.714                       0.149  \n",
       "9853             118          0.686                       0.000  \n",
       "\n",
       "[5670 rows x 20 columns]"
      ]
     },
     "execution_count": 10,
     "metadata": {},
     "output_type": "execute_result"
    }
   ],
   "source": [
    "train"
   ]
  },
  {
   "cell_type": "code",
   "execution_count": 5,
   "metadata": {},
   "outputs": [
    {
     "data": {
      "text/plain": [
       "<AxesSubplot:>"
      ]
     },
     "execution_count": 5,
     "metadata": {},
     "output_type": "execute_result"
    },
    {
     "data": {
      "image/png": "[encoded data removed]",
      "text/plain": [
       "<Figure size 432x288 with 1 Axes>"
      ]
     },
     "metadata": {
      "needs_background": "light"
     },
     "output_type": "display_data"
    }
   ],
   "source": [
    "train.churn.hist()"
   ]
  },
  {
   "cell_type": "code",
   "execution_count": 6,
   "metadata": {},
   "outputs": [
    {
     "data": {
      "text/plain": [
       "<AxesSubplot:>"
      ]
     },
     "execution_count": 6,
     "metadata": {},
     "output_type": "execute_result"
    },
    {
     "data": {
      "image/png": "[encoded data removed]",
      "text/plain": [
       "<Figure size 432x288 with 1 Axes>"
      ]
     },
     "metadata": {
      "needs_background": "light"
     },
     "output_type": "display_data"
    }
   ],
   "source": [
    "train.age.hist()"
   ]
  },
  {
   "cell_type": "code",
   "execution_count": 7,
   "metadata": {},
   "outputs": [
    {
     "data": {
      "text/plain": [
       "<AxesSubplot:>"
      ]
     },
     "execution_count": 7,
     "metadata": {},
     "output_type": "execute_result"
    },
    {
     "data": {
      "image/png": "[encoded data removed]",
      "text/plain": [
       "<Figure size 432x288 with 1 Axes>"
      ]
     },
     "metadata": {
      "needs_background": "light"
     },
     "output_type": "display_data"
    }
   ],
   "source": [
    "train.gender.hist()"
   ]
  },
  {
   "cell_type": "code",
   "execution_count": 8,
   "metadata": {},
   "outputs": [
    {
     "data": {
      "text/plain": [
       "<AxesSubplot:>"
      ]
     },
     "execution_count": 8,
     "metadata": {},
     "output_type": "execute_result"
    },
    {
     "data": {
      "image/png": "[encoded data removed]",
      "text/plain": [
       "<Figure size 432x288 with 1 Axes>"
      ]
     },
     "metadata": {
      "needs_background": "light"
     },
     "output_type": "display_data"
    }
   ],
   "source": [
    "train.dependents.hist()"
   ]
  },
  {
   "cell_type": "code",
   "execution_count": 9,
   "metadata": {},
   "outputs": [
    {
     "data": {
      "text/plain": [
       "<AxesSubplot:>"
      ]
     },
     "execution_count": 9,
     "metadata": {},
     "output_type": "execute_result"
    },
    {
     "data": {
      "image/png": "[encoded data removed]",
      "text/plain": [
       "<Figure size 432x288 with 1 Axes>"
      ]
     },
     "metadata": {
      "needs_background": "light"
     },
     "output_type": "display_data"
    }
   ],
   "source": [
    "train.education.hist()"
   ]
  },
  {
   "cell_type": "code",
   "execution_count": null,
   "metadata": {},
   "outputs": [],
   "source": []
  }
 ],
 "metadata": {
  "kernelspec": {
   "display_name": "Python 3",
   "language": "python",
   "name": "python3"
  },
  "language_info": {
   "codemirror_mode": {
    "name": "ipython",
    "version": 3
   },
   "file_extension": ".py",
   "mimetype": "text/x-python",
   "name": "python",
   "nbconvert_exporter": "python",
   "pygments_lexer": "ipython3",
   "version": "3.8.5"
  }
 },
 "nbformat": 4,
 "nbformat_minor": 4
}
