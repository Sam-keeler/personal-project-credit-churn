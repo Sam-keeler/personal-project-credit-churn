{
 "cells": [
  {
   "cell_type": "markdown",
   "metadata": {},
   "source": [
    "## Importing packages"
   ]
  },
  {
   "cell_type": "code",
   "execution_count": 1,
   "metadata": {},
   "outputs": [],
   "source": [
    "import matplotlib.pyplot as plt\n",
    "import numpy as np\n",
    "import pandas as pd\n",
    "from scipy import stats\n",
    "from datetime import date\n",
    "import seaborn as sns\n",
    "from pydataset import data\n",
    "from wrangle import acquire, prepare, split, get_the_weights, prep_model\n",
    "from sklearn.model_selection import train_test_split\n",
    "from sklearn.tree import DecisionTreeClassifier\n",
    "from sklearn.ensemble import RandomForestClassifier\n",
    "from sklearn.neighbors import KNeighborsClassifier\n",
    "from sklearn.linear_model import LogisticRegression\n",
    "from sklearn.metrics import classification_report\n",
    "from sklearn.metrics import confusion_matrix"
   ]
  },
  {
   "cell_type": "markdown",
   "metadata": {},
   "source": [
    "## Acquiring data from local file"
   ]
  },
  {
   "cell_type": "code",
   "execution_count": 2,
   "metadata": {},
   "outputs": [],
   "source": [
    "credit = acquire()"
   ]
  },
  {
   "cell_type": "markdown",
   "metadata": {},
   "source": [
    "## Preparing the data"
   ]
  },
  {
   "cell_type": "code",
   "execution_count": 3,
   "metadata": {},
   "outputs": [],
   "source": [
    "credit = prepare(credit)"
   ]
  },
  {
   "cell_type": "markdown",
   "metadata": {},
   "source": [
    "## Splitting the data"
   ]
  },
  {
   "cell_type": "code",
   "execution_count": 4,
   "metadata": {},
   "outputs": [],
   "source": [
    "train, validate, test = split(credit)"
   ]
  },
  {
   "cell_type": "markdown",
   "metadata": {},
   "source": [
    "## Exploration"
   ]
  },
  {
   "cell_type": "code",
   "execution_count": 5,
   "metadata": {},
   "outputs": [
    {
     "name": "stdout",
     "output_type": "stream",
     "text": [
      "<class 'pandas.core.frame.DataFrame'>\n",
      "Int64Index: 5670 entries, 7897 to 9853\n",
      "Data columns (total 23 columns):\n",
      " #   Column                      Non-Null Count  Dtype   \n",
      "---  ------                      --------------  -----   \n",
      " 0   churn                       5670 non-null   int64   \n",
      " 1   age                         5670 non-null   int64   \n",
      " 2   gender                      5670 non-null   object  \n",
      " 3   dependents                  5670 non-null   int64   \n",
      " 4   education                   5670 non-null   object  \n",
      " 5   marital_status              5670 non-null   object  \n",
      " 6   income                      5670 non-null   object  \n",
      " 7   card_type                   5670 non-null   object  \n",
      " 8   tenure                      5670 non-null   int64   \n",
      " 9   products_used               5670 non-null   int64   \n",
      " 10  inactive_months_past_year   5670 non-null   int64   \n",
      " 11  contacted_past_year         5670 non-null   int64   \n",
      " 12  credit_limit                5670 non-null   float64 \n",
      " 13  revolving_bal_tot           5670 non-null   int64   \n",
      " 14  avg_open_to_buy             5670 non-null   float64 \n",
      " 15  trans_amt_chng_q4_q1        5670 non-null   float64 \n",
      " 16  tot_trans_amt               5670 non-null   int64   \n",
      " 17  total_trans_ct              5670 non-null   int64   \n",
      " 18  ct_chng_q4_q1               5670 non-null   float64 \n",
      " 19  avg_card_utilization_ratio  5670 non-null   float64 \n",
      " 20  revolving_bal_bin           5670 non-null   category\n",
      " 21  age_bin                     5670 non-null   category\n",
      " 22  card_util_bin               5670 non-null   category\n",
      "dtypes: category(3), float64(5), int64(10), object(5)\n",
      "memory usage: 947.4+ KB\n"
     ]
    }
   ],
   "source": [
    "train.info()"
   ]
  },
  {
   "cell_type": "markdown",
   "metadata": {},
   "source": [
    "## Univariate"
   ]
  },
  {
   "cell_type": "code",
   "execution_count": 6,
   "metadata": {},
   "outputs": [
    {
     "data": {
      "text/plain": [
       "<AxesSubplot:>"
      ]
     },
     "execution_count": 6,
     "metadata": {},
     "output_type": "execute_result"
    },
    {
     "data": {
      "image/png": "[encoded data removed]",
      "text/plain": [
       "<Figure size 432x288 with 1 Axes>"
      ]
     },
     "metadata": {
      "needs_background": "light"
     },
     "output_type": "display_data"
    }
   ],
   "source": [
    "# Churn distribution\n",
    "\n",
    "train.churn.hist()"
   ]
  },
  {
   "cell_type": "code",
   "execution_count": 7,
   "metadata": {},
   "outputs": [
    {
     "data": {
      "text/plain": [
       "(<AxesSubplot:>,\n",
       " count    5670.000000\n",
       " mean       46.414638\n",
       " std         8.043652\n",
       " min        26.000000\n",
       " 25%        41.000000\n",
       " 50%        46.000000\n",
       " 75%        52.000000\n",
       " max        70.000000\n",
       " Name: age, dtype: float64)"
      ]
     },
     "execution_count": 7,
     "metadata": {},
     "output_type": "execute_result"
    },
    {
     "data": {
      "image/png": "[encoded data removed]",
      "text/plain": [
       "<Figure size 432x288 with 1 Axes>"
      ]
     },
     "metadata": {
      "needs_background": "light"
     },
     "output_type": "display_data"
    }
   ],
   "source": [
    "# Age distribution\n",
    "\n",
    "train.age.hist(), train.age.describe()"
   ]
  },
  {
   "cell_type": "code",
   "execution_count": 8,
   "metadata": {},
   "outputs": [
    {
     "data": {
      "text/plain": [
       "<AxesSubplot:>"
      ]
     },
     "execution_count": 8,
     "metadata": {},
     "output_type": "execute_result"
    },
    {
     "data": {
      "image/png": "[encoded data removed]",
      "text/plain": [
       "<Figure size 432x288 with 1 Axes>"
      ]
     },
     "metadata": {
      "needs_background": "light"
     },
     "output_type": "display_data"
    }
   ],
   "source": [
    "# Gender distribution\n",
    "\n",
    "train.gender.hist()"
   ]
  },
  {
   "cell_type": "code",
   "execution_count": 9,
   "metadata": {},
   "outputs": [
    {
     "data": {
      "text/plain": [
       "<AxesSubplot:>"
      ]
     },
     "execution_count": 9,
     "metadata": {},
     "output_type": "execute_result"
    },
    {
     "data": {
      "image/png": "[encoded data removed]",
      "text/plain": [
       "<Figure size 432x288 with 1 Axes>"
      ]
     },
     "metadata": {
      "needs_background": "light"
     },
     "output_type": "display_data"
    }
   ],
   "source": [
    "# Dependents distribution\n",
    "\n",
    "train.dependents.hist()"
   ]
  },
  {
   "cell_type": "code",
   "execution_count": 10,
   "metadata": {},
   "outputs": [
    {
     "data": {
      "text/plain": [
       "<AxesSubplot:>"
      ]
     },
     "execution_count": 10,
     "metadata": {},
     "output_type": "execute_result"
    },
    {
     "data": {
      "image/png": "[encoded data removed]",
      "text/plain": [
       "<Figure size 432x288 with 1 Axes>"
      ]
     },
     "metadata": {
      "needs_background": "light"
     },
     "output_type": "display_data"
    }
   ],
   "source": [
    "# Education distribution\n",
    "\n",
    "train.education.hist()"
   ]
  },
  {
   "cell_type": "code",
   "execution_count": 11,
   "metadata": {},
   "outputs": [
    {
     "data": {
      "text/plain": [
       "<AxesSubplot:>"
      ]
     },
     "execution_count": 11,
     "metadata": {},
     "output_type": "execute_result"
    },
    {
     "data": {
      "image/png": "[encoded data removed]",
      "text/plain": [
       "<Figure size 432x288 with 1 Axes>"
      ]
     },
     "metadata": {
      "needs_background": "light"
     },
     "output_type": "display_data"
    }
   ],
   "source": [
    "# Marital status distribution\n",
    "\n",
    "train.marital_status.hist()"
   ]
  },
  {
   "cell_type": "code",
   "execution_count": 12,
   "metadata": {},
   "outputs": [
    {
     "data": {
      "text/plain": [
       "<AxesSubplot:>"
      ]
     },
     "execution_count": 12,
     "metadata": {},
     "output_type": "execute_result"
    },
    {
     "data": {
      "image/png": "[encoded data removed]",
      "text/plain": [
       "<Figure size 432x288 with 1 Axes>"
      ]
     },
     "metadata": {
      "needs_background": "light"
     },
     "output_type": "display_data"
    }
   ],
   "source": [
    "# Income distribution\n",
    "\n",
    "train.sort_values('income').income.hist()"
   ]
  },
  {
   "cell_type": "code",
   "execution_count": 13,
   "metadata": {},
   "outputs": [
    {
     "data": {
      "text/plain": [
       "<AxesSubplot:>"
      ]
     },
     "execution_count": 13,
     "metadata": {},
     "output_type": "execute_result"
    },
    {
     "data": {
      "image/png": "[encoded data removed]",
      "text/plain": [
       "<Figure size 432x288 with 1 Axes>"
      ]
     },
     "metadata": {
      "needs_background": "light"
     },
     "output_type": "display_data"
    }
   ],
   "source": [
    "# Card type distribution\n",
    "\n",
    "train.card_type.hist()"
   ]
  },
  {
   "cell_type": "code",
   "execution_count": 14,
   "metadata": {},
   "outputs": [
    {
     "data": {
      "text/plain": [
       "(<AxesSubplot:>,\n",
       " count    5670.000000\n",
       " mean       35.986243\n",
       " std         8.055121\n",
       " min        13.000000\n",
       " 25%        32.000000\n",
       " 50%        36.000000\n",
       " 75%        40.000000\n",
       " max        56.000000\n",
       " Name: tenure, dtype: float64)"
      ]
     },
     "execution_count": 14,
     "metadata": {},
     "output_type": "execute_result"
    },
    {
     "data": {
      "image/png": "[encoded data removed]",
      "text/plain": [
       "<Figure size 432x288 with 1 Axes>"
      ]
     },
     "metadata": {
      "needs_background": "light"
     },
     "output_type": "display_data"
    }
   ],
   "source": [
    "# Distribution of months with the bank\n",
    "\n",
    "train.tenure.hist(), train.tenure.describe()"
   ]
  },
  {
   "cell_type": "code",
   "execution_count": 15,
   "metadata": {},
   "outputs": [
    {
     "data": {
      "text/plain": [
       "<AxesSubplot:>"
      ]
     },
     "execution_count": 15,
     "metadata": {},
     "output_type": "execute_result"
    },
    {
     "data": {
      "image/png": "[encoded data removed]",
      "text/plain": [
       "<Figure size 432x288 with 1 Axes>"
      ]
     },
     "metadata": {
      "needs_background": "light"
     },
     "output_type": "display_data"
    }
   ],
   "source": [
    "# Distribution of number of products used by customers\n",
    "\n",
    "train.products_used.hist()"
   ]
  },
  {
   "cell_type": "code",
   "execution_count": 16,
   "metadata": {},
   "outputs": [
    {
     "data": {
      "text/plain": [
       "(<AxesSubplot:>,\n",
       " count    5670.000000\n",
       " mean        2.345150\n",
       " std         1.000048\n",
       " min         0.000000\n",
       " 25%         2.000000\n",
       " 50%         2.000000\n",
       " 75%         3.000000\n",
       " max         6.000000\n",
       " Name: inactive_months_past_year, dtype: float64)"
      ]
     },
     "execution_count": 16,
     "metadata": {},
     "output_type": "execute_result"
    },
    {
     "data": {
      "image/png": "[encoded data removed]",
      "text/plain": [
       "<Figure size 432x288 with 1 Axes>"
      ]
     },
     "metadata": {
      "needs_background": "light"
     },
     "output_type": "display_data"
    }
   ],
   "source": [
    "# Distribution of number of months inactive in the past year\n",
    "\n",
    "train.inactive_months_past_year.hist(), train.inactive_months_past_year.describe()"
   ]
  },
  {
   "cell_type": "code",
   "execution_count": 17,
   "metadata": {},
   "outputs": [
    {
     "data": {
      "text/plain": [
       "<AxesSubplot:>"
      ]
     },
     "execution_count": 17,
     "metadata": {},
     "output_type": "execute_result"
    },
    {
     "data": {
      "image/png": "[encoded data removed]",
      "text/plain": [
       "<Figure size 432x288 with 1 Axes>"
      ]
     },
     "metadata": {
      "needs_background": "light"
     },
     "output_type": "display_data"
    }
   ],
   "source": [
    "# Distribution of times contacting the bank in the past year\n",
    "\n",
    "train.contacted_past_year.hist()"
   ]
  },
  {
   "cell_type": "code",
   "execution_count": 18,
   "metadata": {},
   "outputs": [
    {
     "data": {
      "text/plain": [
       "<AxesSubplot:>"
      ]
     },
     "execution_count": 18,
     "metadata": {},
     "output_type": "execute_result"
    },
    {
     "data": {
      "image/png": "[encoded data removed]",
      "text/plain": [
       "<Figure size 432x288 with 1 Axes>"
      ]
     },
     "metadata": {
      "needs_background": "light"
     },
     "output_type": "display_data"
    }
   ],
   "source": [
    "# Total revolving balance distribution, might be useful to bin these\n",
    "\n",
    "train.revolving_bal_tot.hist()"
   ]
  },
  {
   "cell_type": "code",
   "execution_count": 19,
   "metadata": {},
   "outputs": [
    {
     "data": {
      "text/plain": [
       "<AxesSubplot:>"
      ]
     },
     "execution_count": 19,
     "metadata": {},
     "output_type": "execute_result"
    },
    {
     "data": {
      "image/png": "[encoded data removed]",
      "text/plain": [
       "<Figure size 432x288 with 1 Axes>"
      ]
     },
     "metadata": {
      "needs_background": "light"
     },
     "output_type": "display_data"
    }
   ],
   "source": [
    "# Total transaction amount distribution\n",
    "\n",
    "train.tot_trans_amt.hist()"
   ]
  },
  {
   "cell_type": "code",
   "execution_count": 20,
   "metadata": {},
   "outputs": [
    {
     "data": {
      "text/plain": [
       "<AxesSubplot:>"
      ]
     },
     "execution_count": 20,
     "metadata": {},
     "output_type": "execute_result"
    },
    {
     "data": {
      "image/png": "[encoded data removed]",
      "text/plain": [
       "<Figure size 432x288 with 1 Axes>"
      ]
     },
     "metadata": {
      "needs_background": "light"
     },
     "output_type": "display_data"
    }
   ],
   "source": [
    "# Change in spending from Q4 to Q1 distribution (Calculated Q4/Q1)\n",
    "\n",
    "train.trans_amt_chng_q4_q1.hist()"
   ]
  },
  {
   "cell_type": "code",
   "execution_count": 21,
   "metadata": {},
   "outputs": [
    {
     "data": {
      "text/plain": [
       "<AxesSubplot:>"
      ]
     },
     "execution_count": 21,
     "metadata": {},
     "output_type": "execute_result"
    },
    {
     "data": {
      "image/png": "[encoded data removed]",
      "text/plain": [
       "<Figure size 432x288 with 1 Axes>"
      ]
     },
     "metadata": {
      "needs_background": "light"
     },
     "output_type": "display_data"
    }
   ],
   "source": [
    "# Distribution of average utilization ratio (Credit used/ Available credit)\n",
    "\n",
    "train.avg_card_utilization_ratio.hist()"
   ]
  },
  {
   "cell_type": "markdown",
   "metadata": {},
   "source": [
    "## Bivariate"
   ]
  },
  {
   "cell_type": "code",
   "execution_count": 22,
   "metadata": {},
   "outputs": [
    {
     "data": {
      "text/plain": [
       "(<AxesSubplot:xlabel='income', ylabel='count'>,\n",
       " income\n",
       " $120K +           0.159251\n",
       " $40K - $60K       0.155779\n",
       " $60K - $80K       0.140394\n",
       " $80K - $120K      0.145238\n",
       " Less than $40K    0.174114\n",
       " Name: churn, dtype: float64)"
      ]
     },
     "execution_count": 22,
     "metadata": {},
     "output_type": "execute_result"
    },
    {
     "data": {
      "image/png": "[encoded data removed]",
      "text/plain": [
       "<Figure size 432x288 with 1 Axes>"
      ]
     },
     "metadata": {
      "needs_background": "light"
     },
     "output_type": "display_data"
    }
   ],
   "source": [
    "# Count of churned customers by income group, churn ratios on top\n",
    "# Churned cutomers ratio is pretty even for each income bracket\n",
    "\n",
    "sns.countplot(x = 'income', hue = 'churn', data=train, palette='Blues', ec='black', linewidth=2), train.groupby('income').churn.mean()"
   ]
  },
  {
   "cell_type": "code",
   "execution_count": 23,
   "metadata": {},
   "outputs": [
    {
     "data": {
      "text/plain": [
       "(<AxesSubplot:xlabel='inactive_months_past_year', ylabel='count'>,\n",
       " inactive_months_past_year\n",
       " 0    0.411765\n",
       " 1    0.046229\n",
       " 2    0.156130\n",
       " 3    0.211268\n",
       " 4    0.311203\n",
       " 5    0.136842\n",
       " 6    0.156250\n",
       " Name: churn, dtype: float64,\n",
       " 0.16067019400352733)"
      ]
     },
     "execution_count": 23,
     "metadata": {},
     "output_type": "execute_result"
    },
    {
     "data": {
      "image/png": "[encoded data removed]",
      "text/plain": [
       "<Figure size 432x288 with 1 Axes>"
      ]
     },
     "metadata": {
      "needs_background": "light"
     },
     "output_type": "display_data"
    }
   ],
   "source": [
    "# Count of churned customers by number of months they were inactive last year, churn ratios by inactive months, \n",
    "# with total average churn on the bottom\n",
    "# Seems as though there is a directly proportional relationship between inactive months and churn \n",
    "# however drops off after 4 months\n",
    "\n",
    "sns.countplot(x = 'inactive_months_past_year', hue = 'churn', data=train, palette='Blues', ec='black', linewidth=2), train.groupby('inactive_months_past_year').churn.mean(), train.churn.sum()/5670"
   ]
  },
  {
   "cell_type": "code",
   "execution_count": 24,
   "metadata": {},
   "outputs": [
    {
     "data": {
      "text/plain": [
       "<AxesSubplot:xlabel='tenure', ylabel='churn'>"
      ]
     },
     "execution_count": 24,
     "metadata": {},
     "output_type": "execute_result"
    },
    {
     "data": {
      "image/png": "[encoded data removed]",
      "text/plain": [
       "<Figure size 432x288 with 1 Axes>"
      ]
     },
     "metadata": {
      "needs_background": "light"
     },
     "output_type": "display_data"
    }
   ],
   "source": [
    "# Plotting tenure with churn frequency\n",
    "# More varied in the first few months but then starts to even out\n",
    "\n",
    "sns.lineplot(x = 'tenure', y = 'churn', data = train)"
   ]
  },
  {
   "cell_type": "code",
   "execution_count": 25,
   "metadata": {},
   "outputs": [
    {
     "data": {
      "text/plain": [
       "(<AxesSubplot:xlabel='card_type', ylabel='count'>,\n",
       " card_type\n",
       " Blue        0.162505\n",
       " Gold        0.101695\n",
       " Platinum    0.222222\n",
       " Silver      0.139241\n",
       " Name: churn, dtype: float64)"
      ]
     },
     "execution_count": 25,
     "metadata": {},
     "output_type": "execute_result"
    },
    {
     "data": {
      "image/png": "[encoded data removed]",
      "text/plain": [
       "<Figure size 432x288 with 1 Axes>"
      ]
     },
     "metadata": {
      "needs_background": "light"
     },
     "output_type": "display_data"
    }
   ],
   "source": [
    "# Churn count grouped by the type of card the customer has, churn ratios on top\n",
    "\n",
    "sns.countplot(x = 'card_type', hue = 'churn', data=train, palette='Blues', ec='black', linewidth=2), train.groupby('card_type').churn.mean()"
   ]
  },
  {
   "cell_type": "code",
   "execution_count": 26,
   "metadata": {},
   "outputs": [
    {
     "data": {
      "text/plain": [
       "<AxesSubplot:xlabel='dependents', ylabel='count'>"
      ]
     },
     "execution_count": 26,
     "metadata": {},
     "output_type": "execute_result"
    },
    {
     "data": {
      "image/png": "[encoded data removed]",
      "text/plain": [
       "<Figure size 432x288 with 1 Axes>"
      ]
     },
     "metadata": {
      "needs_background": "light"
     },
     "output_type": "display_data"
    }
   ],
   "source": [
    "# Churn count grouped by the number of dependents \n",
    "\n",
    "sns.countplot(x = 'dependents', hue = 'churn', data=train, palette='Blues', ec='black', linewidth=2)"
   ]
  },
  {
   "cell_type": "code",
   "execution_count": 27,
   "metadata": {},
   "outputs": [
    {
     "data": {
      "text/plain": [
       "(<AxesSubplot:xlabel='education', ylabel='count'>,\n",
       " education\n",
       " College          0.153713\n",
       " Doctorate        0.202479\n",
       " Graduate         0.158282\n",
       " High School      0.153914\n",
       " Post-Graduate    0.185315\n",
       " Uneducated       0.161520\n",
       " Name: churn, dtype: float64)"
      ]
     },
     "execution_count": 27,
     "metadata": {},
     "output_type": "execute_result"
    },
    {
     "data": {
      "image/png": "[encoded data removed]",
      "text/plain": [
       "<Figure size 432x288 with 1 Axes>"
      ]
     },
     "metadata": {
      "needs_background": "light"
     },
     "output_type": "display_data"
    }
   ],
   "source": [
    "# Churn counts grouped by education level, churn ratios on top\n",
    "\n",
    "sns.countplot(x = 'education', hue = 'churn', data=train, palette='Blues', ec='black', linewidth=2), train.groupby('education').churn.mean()"
   ]
  },
  {
   "cell_type": "code",
   "execution_count": 28,
   "metadata": {},
   "outputs": [
    {
     "data": {
      "text/plain": [
       "(<AxesSubplot:xlabel='revolving_bal_bin', ylabel='count'>,\n",
       " revolving_bal_bin\n",
       " 0              0.373626\n",
       " 1 - 1000       0.184769\n",
       " 1000 - 2000    0.047210\n",
       " 2000+          0.140276\n",
       " Name: churn, dtype: float64)"
      ]
     },
     "execution_count": 28,
     "metadata": {},
     "output_type": "execute_result"
    },
    {
     "data": {
      "image/png": "[encoded data removed]",
      "text/plain": [
       "<Figure size 432x288 with 1 Axes>"
      ]
     },
     "metadata": {
      "needs_background": "light"
     },
     "output_type": "display_data"
    }
   ],
   "source": [
    "# Churn counts grouped by revolving balance, churn ratios on top\n",
    "# It seems those with lower revolving balances were more likely to churn, especially those with none\n",
    "\n",
    "sns.countplot(x = 'revolving_bal_bin', hue = 'churn', data=train, palette='Blues', ec='black', linewidth=2), train.groupby('revolving_bal_bin').churn.mean()"
   ]
  },
  {
   "cell_type": "code",
   "execution_count": 29,
   "metadata": {},
   "outputs": [
    {
     "data": {
      "text/plain": [
       "(<AxesSubplot:xlabel='age_bin', ylabel='count'>,\n",
       " age_bin\n",
       " 20-30    0.110345\n",
       " 30-40    0.147708\n",
       " 40-50    0.168138\n",
       " 50-60    0.159603\n",
       " 60+      0.181034\n",
       " Name: churn, dtype: float64)"
      ]
     },
     "execution_count": 29,
     "metadata": {},
     "output_type": "execute_result"
    },
    {
     "data": {
      "image/png": "[encoded data removed]",
      "text/plain": [
       "<Figure size 432x288 with 1 Axes>"
      ]
     },
     "metadata": {
      "needs_background": "light"
     },
     "output_type": "display_data"
    }
   ],
   "source": [
    "# Churn counts grouped by age, churn ratios on top\n",
    "\n",
    "sns.countplot(x = 'age_bin', hue = 'churn', data=train, palette='Blues', ec='black', linewidth=2), train.groupby('age_bin').churn.mean()"
   ]
  },
  {
   "cell_type": "code",
   "execution_count": 30,
   "metadata": {},
   "outputs": [
    {
     "data": {
      "text/plain": [
       "(<AxesSubplot:xlabel='card_util_bin', ylabel='count'>,\n",
       " card_util_bin\n",
       " 0-20%      0.225418\n",
       " 20-40%     0.104119\n",
       " 40-60%     0.052304\n",
       " 60-80%     0.073628\n",
       " 80-100%    0.191406\n",
       " Name: churn, dtype: float64)"
      ]
     },
     "execution_count": 30,
     "metadata": {},
     "output_type": "execute_result"
    },
    {
     "data": {
      "image/png": "[encoded data removed]",
      "text/plain": [
       "<Figure size 432x288 with 1 Axes>"
      ]
     },
     "metadata": {
      "needs_background": "light"
     },
     "output_type": "display_data"
    }
   ],
   "source": [
    "# Churn counts grouped by card utility, churn ratios on top\n",
    "# This further implies that our customers who use the least amount of credit are most likely to churn, but \n",
    "# also those maxing out their credit seem more likely to churn\n",
    "\n",
    "sns.countplot(x = 'card_util_bin', hue = 'churn', data=train, palette='Blues', ec='black', linewidth=2), train.groupby('card_util_bin').churn.mean()"
   ]
  },
  {
   "cell_type": "code",
   "execution_count": 31,
   "metadata": {},
   "outputs": [
    {
     "data": {
      "text/plain": [
       "(<AxesSubplot:xlabel='products_used', ylabel='count'>,\n",
       " products_used\n",
       " 1    0.260618\n",
       " 2    0.275072\n",
       " 3    0.170099\n",
       " 4    0.114125\n",
       " 5    0.123120\n",
       " 6    0.106931\n",
       " Name: churn, dtype: float64)"
      ]
     },
     "execution_count": 31,
     "metadata": {},
     "output_type": "execute_result"
    },
    {
     "data": {
      "image/png": "[encoded data removed]",
      "text/plain": [
       "<Figure size 432x288 with 1 Axes>"
      ]
     },
     "metadata": {
      "needs_background": "light"
     },
     "output_type": "display_data"
    }
   ],
   "source": [
    "# Churn counts grouped by number of products used, churn ratios on top\n",
    "# Seems those that use less of the banks services are more likely to churn\n",
    "\n",
    "sns.countplot(x = 'products_used', hue = 'churn', data=train, palette='Blues', ec='black', linewidth=2), train.groupby('products_used').churn.mean()"
   ]
  },
  {
   "cell_type": "code",
   "execution_count": 32,
   "metadata": {},
   "outputs": [
    {
     "data": {
      "text/plain": [
       "(<AxesSubplot:xlabel='contacted_past_year', ylabel='count'>,\n",
       " contacted_past_year\n",
       " 0    0.027523\n",
       " 1    0.071770\n",
       " 2    0.128345\n",
       " 3    0.195279\n",
       " 4    0.227506\n",
       " 5    0.321101\n",
       " 6    1.000000\n",
       " Name: churn, dtype: float64)"
      ]
     },
     "execution_count": 32,
     "metadata": {},
     "output_type": "execute_result"
    },
    {
     "data": {
      "image/png": "[encoded data removed]",
      "text/plain": [
       "<Figure size 432x288 with 1 Axes>"
      ]
     },
     "metadata": {
      "needs_background": "light"
     },
     "output_type": "display_data"
    }
   ],
   "source": [
    "# Churn counts grouped by number of times bank was contacted in the past year, churn ratios on top\n",
    "# Contacts seem to be highly correlated with churn, though that's not much of a surprise\n",
    "\n",
    "sns.countplot(x = 'contacted_past_year', hue = 'churn', data=train, palette='Blues', ec='black', linewidth=2), train.groupby('contacted_past_year').churn.mean()"
   ]
  },
  {
   "cell_type": "markdown",
   "metadata": {},
   "source": [
    "## Testing"
   ]
  },
  {
   "cell_type": "markdown",
   "metadata": {},
   "source": [
    "### Hypothesis 1"
   ]
  },
  {
   "cell_type": "markdown",
   "metadata": {},
   "source": [
    "Null: There is no difference in average contact number between those that have churned and those that have not\n",
    "\n",
    "Alternative: There is a difference in average contact number between those that have churned and those that have not\n",
    "\n",
    "Alpha = .05"
   ]
  },
  {
   "cell_type": "code",
   "execution_count": 33,
   "metadata": {},
   "outputs": [
    {
     "data": {
      "text/plain": [
       "Ttest_indResult(statistic=15.525671780892413, pvalue=2.87060033269925e-53)"
      ]
     },
     "execution_count": 33,
     "metadata": {},
     "output_type": "execute_result"
    }
   ],
   "source": [
    "churned = train[train['churn'] == 1]\n",
    "active = train[train['churn'] == 0]\n",
    "\n",
    "stats.ttest_ind(churned.contacted_past_year, active.contacted_past_year)"
   ]
  },
  {
   "cell_type": "markdown",
   "metadata": {},
   "source": [
    "I can safely conclude that there is likely a difference in the average contact number between those that have churned and those that are still active customers"
   ]
  },
  {
   "cell_type": "markdown",
   "metadata": {},
   "source": [
    "### Hypothesis 2"
   ]
  },
  {
   "cell_type": "markdown",
   "metadata": {},
   "source": [
    "Null: There is no difference in the average number of inactive months between those that have churned and those that have not\n",
    "\n",
    "Alternative: There is a difference in the average number of inactive months between those that have churned and those that have not"
   ]
  },
  {
   "cell_type": "code",
   "execution_count": 34,
   "metadata": {},
   "outputs": [
    {
     "data": {
      "text/plain": [
       "Ttest_indResult(statistic=11.282086441512252, pvalue=3.2892656261879736e-29)"
      ]
     },
     "execution_count": 34,
     "metadata": {},
     "output_type": "execute_result"
    }
   ],
   "source": [
    "stats.ttest_ind(churned.inactive_months_past_year, active.inactive_months_past_year)"
   ]
  },
  {
   "cell_type": "markdown",
   "metadata": {},
   "source": [
    "I can safely conclude that these two groups are likely not independent when it comes to number of inactive months in the past year"
   ]
  },
  {
   "cell_type": "markdown",
   "metadata": {},
   "source": [
    "### Hypothesis 3"
   ]
  },
  {
   "cell_type": "markdown",
   "metadata": {},
   "source": [
    "Null: There is no difference in the average number of products used between those that have churned and those that have not\n",
    "\n",
    "Alternative: There is a difference in the average number of products used between those that have churned and those that have not"
   ]
  },
  {
   "cell_type": "code",
   "execution_count": 35,
   "metadata": {},
   "outputs": [
    {
     "data": {
      "text/plain": [
       "MannwhitneyuResult(statistic=1675904.0, pvalue=1.0391415612358465e-28)"
      ]
     },
     "execution_count": 35,
     "metadata": {},
     "output_type": "execute_result"
    }
   ],
   "source": [
    "stats.mannwhitneyu(churned.products_used, active.products_used)"
   ]
  },
  {
   "cell_type": "markdown",
   "metadata": {},
   "source": [
    "I can safely conclude that there is likely a difference in the average number of products used between those that have churned and those that have not"
   ]
  },
  {
   "cell_type": "markdown",
   "metadata": {},
   "source": [
    "## Preparing for modeling"
   ]
  },
  {
   "cell_type": "code",
   "execution_count": 37,
   "metadata": {},
   "outputs": [],
   "source": [
    "# Dropping columns for marital status, card type, income, and education as it was revealed in examining the weights\n",
    "# of each feature that these were all ranked as irrelevant, encoding gender as is_female, dropping binned columns\n",
    "\n",
    "credit = prep_model(credit)"
   ]
  },
  {
   "cell_type": "code",
   "execution_count": 38,
   "metadata": {},
   "outputs": [],
   "source": [
    "train, validate, test = split(credit)"
   ]
  },
  {
   "cell_type": "markdown",
   "metadata": {},
   "source": [
    "## Modeling"
   ]
  },
  {
   "cell_type": "code",
   "execution_count": 39,
   "metadata": {},
   "outputs": [],
   "source": [
    "x_train = train.drop(columns = ['churn'])\n",
    "y_train = train.churn\n",
    "\n",
    "x_validate = validate.drop(columns = ['churn'])\n",
    "y_validate = validate.churn\n",
    "\n",
    "x_test = test.drop(columns = ['churn'])\n",
    "y_test = test.churn"
   ]
  },
  {
   "cell_type": "markdown",
   "metadata": {},
   "source": [
    "## Establishing a baseline"
   ]
  },
  {
   "cell_type": "code",
   "execution_count": 40,
   "metadata": {},
   "outputs": [
    {
     "data": {
      "text/html": [
       "<div>\n",
       "<style scoped>\n",
       "    .dataframe tbody tr th:only-of-type {\n",
       "        vertical-align: middle;\n",
       "    }\n",
       "\n",
       "    .dataframe tbody tr th {\n",
       "        vertical-align: top;\n",
       "    }\n",
       "\n",
       "    .dataframe thead th {\n",
       "        text-align: right;\n",
       "    }\n",
       "</style>\n",
       "<table border=\"1\" class=\"dataframe\">\n",
       "  <thead>\n",
       "    <tr style=\"text-align: right;\">\n",
       "      <th></th>\n",
       "      <th>age</th>\n",
       "      <th>is_female</th>\n",
       "      <th>dependents</th>\n",
       "      <th>tenure</th>\n",
       "      <th>products_used</th>\n",
       "      <th>inactive_months_past_year</th>\n",
       "      <th>contacted_past_year</th>\n",
       "      <th>credit_limit</th>\n",
       "      <th>revolving_bal_tot</th>\n",
       "      <th>avg_open_to_buy</th>\n",
       "      <th>trans_amt_chng_q4_q1</th>\n",
       "      <th>tot_trans_amt</th>\n",
       "      <th>total_trans_ct</th>\n",
       "      <th>ct_chng_q4_q1</th>\n",
       "      <th>avg_card_utilization_ratio</th>\n",
       "    </tr>\n",
       "    <tr>\n",
       "      <th>churn</th>\n",
       "      <th></th>\n",
       "      <th></th>\n",
       "      <th></th>\n",
       "      <th></th>\n",
       "      <th></th>\n",
       "      <th></th>\n",
       "      <th></th>\n",
       "      <th></th>\n",
       "      <th></th>\n",
       "      <th></th>\n",
       "      <th></th>\n",
       "      <th></th>\n",
       "      <th></th>\n",
       "      <th></th>\n",
       "      <th></th>\n",
       "    </tr>\n",
       "  </thead>\n",
       "  <tbody>\n",
       "    <tr>\n",
       "      <th>0</th>\n",
       "      <td>4759</td>\n",
       "      <td>4759</td>\n",
       "      <td>4759</td>\n",
       "      <td>4759</td>\n",
       "      <td>4759</td>\n",
       "      <td>4759</td>\n",
       "      <td>4759</td>\n",
       "      <td>4759</td>\n",
       "      <td>4759</td>\n",
       "      <td>4759</td>\n",
       "      <td>4759</td>\n",
       "      <td>4759</td>\n",
       "      <td>4759</td>\n",
       "      <td>4759</td>\n",
       "      <td>4759</td>\n",
       "    </tr>\n",
       "    <tr>\n",
       "      <th>1</th>\n",
       "      <td>911</td>\n",
       "      <td>911</td>\n",
       "      <td>911</td>\n",
       "      <td>911</td>\n",
       "      <td>911</td>\n",
       "      <td>911</td>\n",
       "      <td>911</td>\n",
       "      <td>911</td>\n",
       "      <td>911</td>\n",
       "      <td>911</td>\n",
       "      <td>911</td>\n",
       "      <td>911</td>\n",
       "      <td>911</td>\n",
       "      <td>911</td>\n",
       "      <td>911</td>\n",
       "    </tr>\n",
       "  </tbody>\n",
       "</table>\n",
       "</div>"
      ],
      "text/plain": [
       "        age  is_female  dependents  tenure  products_used  \\\n",
       "churn                                                       \n",
       "0      4759       4759        4759    4759           4759   \n",
       "1       911        911         911     911            911   \n",
       "\n",
       "       inactive_months_past_year  contacted_past_year  credit_limit  \\\n",
       "churn                                                                 \n",
       "0                           4759                 4759          4759   \n",
       "1                            911                  911           911   \n",
       "\n",
       "       revolving_bal_tot  avg_open_to_buy  trans_amt_chng_q4_q1  \\\n",
       "churn                                                             \n",
       "0                   4759             4759                  4759   \n",
       "1                    911              911                   911   \n",
       "\n",
       "       tot_trans_amt  total_trans_ct  ct_chng_q4_q1  \\\n",
       "churn                                                 \n",
       "0               4759            4759           4759   \n",
       "1                911             911            911   \n",
       "\n",
       "       avg_card_utilization_ratio  \n",
       "churn                              \n",
       "0                            4759  \n",
       "1                             911  "
      ]
     },
     "execution_count": 40,
     "metadata": {},
     "output_type": "execute_result"
    }
   ],
   "source": [
    "train.groupby('churn').count()"
   ]
  },
  {
   "cell_type": "code",
   "execution_count": 41,
   "metadata": {},
   "outputs": [
    {
     "name": "stdout",
     "output_type": "stream",
     "text": [
      "Baseline     = 0.8393\n"
     ]
    }
   ],
   "source": [
    "# Calculating the baseline\n",
    "\n",
    "print(f'Baseline     = {(4759/(4759 + 911)):.4f}')"
   ]
  },
  {
   "cell_type": "markdown",
   "metadata": {},
   "source": [
    "## Decision Tree max depth of 5"
   ]
  },
  {
   "cell_type": "code",
   "execution_count": 42,
   "metadata": {},
   "outputs": [
    {
     "name": "stdout",
     "output_type": "stream",
     "text": [
      "              precision    recall  f1-score   support\n",
      "\n",
      "           0       0.97      0.97      0.97      4759\n",
      "           1       0.84      0.82      0.83       911\n",
      "\n",
      "    accuracy                           0.95      5670\n",
      "   macro avg       0.90      0.90      0.90      5670\n",
      "weighted avg       0.95      0.95      0.95      5670\n",
      "\n"
     ]
    }
   ],
   "source": [
    "dt5 = DecisionTreeClassifier(max_depth=5, random_state=123)\n",
    "dt5 = dt5.fit(x_train, y_train)\n",
    "y5_pred = dt5.predict(x_train)\n",
    "print(classification_report(y_train, y5_pred))"
   ]
  },
  {
   "cell_type": "code",
   "execution_count": 43,
   "metadata": {},
   "outputs": [
    {
     "data": {
      "text/plain": [
       "{'age': 0.01,\n",
       " 'is_female': 0.0,\n",
       " 'dependents': 0.0,\n",
       " 'tenure': 0.0,\n",
       " 'products_used': 0.11,\n",
       " 'inactive_months_past_year': 0.0,\n",
       " 'contacted_past_year': 0.0,\n",
       " 'credit_limit': 0.0,\n",
       " 'revolving_bal_tot': 0.28,\n",
       " 'avg_open_to_buy': 0.0,\n",
       " 'trans_amt_chng_q4_q1': 0.01,\n",
       " 'tot_trans_amt': 0.1,\n",
       " 'total_trans_ct': 0.39,\n",
       " 'ct_chng_q4_q1': 0.08,\n",
       " 'avg_card_utilization_ratio': 0.02}"
      ]
     },
     "execution_count": 43,
     "metadata": {},
     "output_type": "execute_result"
    }
   ],
   "source": [
    "get_the_weights(dt5, x_train)"
   ]
  },
  {
   "cell_type": "markdown",
   "metadata": {},
   "source": [
    "## Random Forest max depth of 5"
   ]
  },
  {
   "cell_type": "code",
   "execution_count": 44,
   "metadata": {},
   "outputs": [],
   "source": [
    "rf5 = RandomForestClassifier(max_depth = 5, min_samples_leaf = 2, random_state=123)\n",
    "rf5 = rf5.fit(x_train, y_train)\n",
    "y5_pred = rf5.predict(x_train)"
   ]
  },
  {
   "cell_type": "code",
   "execution_count": 45,
   "metadata": {},
   "outputs": [
    {
     "name": "stdout",
     "output_type": "stream",
     "text": [
      "              precision    recall  f1-score   support\n",
      "\n",
      "           0       0.93      0.99      0.96      4759\n",
      "           1       0.92      0.62      0.74       911\n",
      "\n",
      "    accuracy                           0.93      5670\n",
      "   macro avg       0.93      0.81      0.85      5670\n",
      "weighted avg       0.93      0.93      0.92      5670\n",
      "\n"
     ]
    }
   ],
   "source": [
    "print(classification_report(y_train, y5_pred))"
   ]
  },
  {
   "cell_type": "code",
   "execution_count": 46,
   "metadata": {},
   "outputs": [
    {
     "data": {
      "text/plain": [
       "{'age': 0.01,\n",
       " 'is_female': 0.01,\n",
       " 'dependents': 0.0,\n",
       " 'tenure': 0.01,\n",
       " 'products_used': 0.06,\n",
       " 'inactive_months_past_year': 0.02,\n",
       " 'contacted_past_year': 0.03,\n",
       " 'credit_limit': 0.02,\n",
       " 'revolving_bal_tot': 0.16,\n",
       " 'avg_open_to_buy': 0.01,\n",
       " 'trans_amt_chng_q4_q1': 0.03,\n",
       " 'tot_trans_amt': 0.18,\n",
       " 'total_trans_ct': 0.2,\n",
       " 'ct_chng_q4_q1': 0.16,\n",
       " 'avg_card_utilization_ratio': 0.1}"
      ]
     },
     "execution_count": 46,
     "metadata": {},
     "output_type": "execute_result"
    }
   ],
   "source": [
    "get_the_weights(rf5, x_train)"
   ]
  },
  {
   "cell_type": "markdown",
   "metadata": {},
   "source": [
    "## Random Forest max depth level of 8"
   ]
  },
  {
   "cell_type": "code",
   "execution_count": 49,
   "metadata": {},
   "outputs": [],
   "source": [
    "rf8 = RandomForestClassifier(max_depth = 8, min_samples_leaf = 2, random_state=123)\n",
    "rf8 = rf8.fit(x_train, y_train)\n",
    "y8_pred = rf8.predict(x_train)"
   ]
  },
  {
   "cell_type": "code",
   "execution_count": 50,
   "metadata": {},
   "outputs": [
    {
     "name": "stdout",
     "output_type": "stream",
     "text": [
      "              precision    recall  f1-score   support\n",
      "\n",
      "           0       0.99      1.00      0.99      4759\n",
      "           1       0.99      0.92      0.96       911\n",
      "\n",
      "    accuracy                           0.99      5670\n",
      "   macro avg       0.99      0.96      0.97      5670\n",
      "weighted avg       0.99      0.99      0.99      5670\n",
      "\n"
     ]
    }
   ],
   "source": [
    "print(classification_report(y_train, y10_pred))"
   ]
  },
  {
   "cell_type": "code",
   "execution_count": 51,
   "metadata": {},
   "outputs": [
    {
     "data": {
      "text/plain": [
       "{'age': 0.02,\n",
       " 'is_female': 0.01,\n",
       " 'dependents': 0.01,\n",
       " 'tenure': 0.01,\n",
       " 'products_used': 0.07,\n",
       " 'inactive_months_past_year': 0.03,\n",
       " 'contacted_past_year': 0.03,\n",
       " 'credit_limit': 0.03,\n",
       " 'revolving_bal_tot': 0.14,\n",
       " 'avg_open_to_buy': 0.02,\n",
       " 'trans_amt_chng_q4_q1': 0.05,\n",
       " 'tot_trans_amt': 0.19,\n",
       " 'total_trans_ct': 0.19,\n",
       " 'ct_chng_q4_q1': 0.13,\n",
       " 'avg_card_utilization_ratio': 0.08}"
      ]
     },
     "execution_count": 51,
     "metadata": {},
     "output_type": "execute_result"
    }
   ],
   "source": [
    "get_the_weights(rf8, x_train)"
   ]
  },
  {
   "cell_type": "markdown",
   "metadata": {},
   "source": [
    "## KNN Model 5 neighbors"
   ]
  },
  {
   "cell_type": "code",
   "execution_count": 52,
   "metadata": {},
   "outputs": [],
   "source": [
    "kn = KNeighborsClassifier(n_neighbors=5, weights='uniform')\n",
    "kn = kn.fit(x_train, y_train)\n",
    "kn_pred = kn.predict(x_train)"
   ]
  },
  {
   "cell_type": "code",
   "execution_count": 53,
   "metadata": {},
   "outputs": [
    {
     "name": "stdout",
     "output_type": "stream",
     "text": [
      "              precision    recall  f1-score   support\n",
      "\n",
      "           0       0.94      0.97      0.95      4759\n",
      "           1       0.80      0.66      0.73       911\n",
      "\n",
      "    accuracy                           0.92      5670\n",
      "   macro avg       0.87      0.81      0.84      5670\n",
      "weighted avg       0.92      0.92      0.92      5670\n",
      "\n"
     ]
    }
   ],
   "source": [
    "print(classification_report(y_train, kn_pred))"
   ]
  },
  {
   "cell_type": "markdown",
   "metadata": {},
   "source": [
    "## Logistic Regression"
   ]
  },
  {
   "cell_type": "code",
   "execution_count": 54,
   "metadata": {},
   "outputs": [],
   "source": [
    "def get_the_coef(logit2, x_train):\n",
    "    feat = logit2.coef_[0]\n",
    "    key = x_train.columns.tolist()\n",
    "    val = feat.tolist()\n",
    "    val = [round(num, 2) for num in val]\n",
    "    res = {key[i]: val[i] for i in range(len(key))} \n",
    "    return res"
   ]
  },
  {
   "cell_type": "code",
   "execution_count": 55,
   "metadata": {},
   "outputs": [
    {
     "name": "stderr",
     "output_type": "stream",
     "text": [
      "/usr/local/anaconda3/lib/python3.8/site-packages/sklearn/linear_model/_logistic.py:762: ConvergenceWarning: lbfgs failed to converge (status=1):\n",
      "STOP: TOTAL NO. of ITERATIONS REACHED LIMIT.\n",
      "\n",
      "Increase the number of iterations (max_iter) or scale the data as shown in:\n",
      "    https://scikit-learn.org/stable/modules/preprocessing.html\n",
      "Please also refer to the documentation for alternative solver options:\n",
      "    https://scikit-learn.org/stable/modules/linear_model.html#logistic-regression\n",
      "  n_iter_i = _check_optimize_result(\n"
     ]
    }
   ],
   "source": [
    "logit2 = LogisticRegression(C=10, random_state=123)\n",
    "logit2 = logit2.fit(x_train, y_train)\n",
    "y_predict = logit2.predict(x_train)"
   ]
  },
  {
   "cell_type": "code",
   "execution_count": 56,
   "metadata": {},
   "outputs": [
    {
     "name": "stdout",
     "output_type": "stream",
     "text": [
      "              precision    recall  f1-score   support\n",
      "\n",
      "           0       0.90      0.96      0.93      4759\n",
      "           1       0.68      0.46      0.54       911\n",
      "\n",
      "    accuracy                           0.88      5670\n",
      "   macro avg       0.79      0.71      0.74      5670\n",
      "weighted avg       0.87      0.88      0.87      5670\n",
      "\n"
     ]
    }
   ],
   "source": [
    "print(classification_report(y_train, y_predict))"
   ]
  },
  {
   "cell_type": "code",
   "execution_count": 65,
   "metadata": {},
   "outputs": [
    {
     "data": {
      "text/plain": [
       "{'age': 0.11,\n",
       " 'is_female': 0.06,\n",
       " 'dependents': 0.18,\n",
       " 'tenure': -0.08,\n",
       " 'products_used': -0.18,\n",
       " 'inactive_months_past_year': 0.21,\n",
       " 'contacted_past_year': 0.27,\n",
       " 'credit_limit': -0.0,\n",
       " 'revolving_bal_tot': -0.0,\n",
       " 'avg_open_to_buy': 0.0,\n",
       " 'trans_amt_chng_q4_q1': -0.01,\n",
       " 'tot_trans_amt': 0.0,\n",
       " 'total_trans_ct': -0.09,\n",
       " 'ct_chng_q4_q1': -0.05,\n",
       " 'avg_card_utilization_ratio': 0.0}"
      ]
     },
     "execution_count": 65,
     "metadata": {},
     "output_type": "execute_result"
    }
   ],
   "source": [
    "get_the_coef(logit2, x_train)"
   ]
  },
  {
   "cell_type": "markdown",
   "metadata": {},
   "source": [
    "## Validate"
   ]
  },
  {
   "cell_type": "markdown",
   "metadata": {},
   "source": [
    "### Baseline"
   ]
  },
  {
   "cell_type": "code",
   "execution_count": 59,
   "metadata": {},
   "outputs": [
    {
     "data": {
      "text/html": [
       "<div>\n",
       "<style scoped>\n",
       "    .dataframe tbody tr th:only-of-type {\n",
       "        vertical-align: middle;\n",
       "    }\n",
       "\n",
       "    .dataframe tbody tr th {\n",
       "        vertical-align: top;\n",
       "    }\n",
       "\n",
       "    .dataframe thead th {\n",
       "        text-align: right;\n",
       "    }\n",
       "</style>\n",
       "<table border=\"1\" class=\"dataframe\">\n",
       "  <thead>\n",
       "    <tr style=\"text-align: right;\">\n",
       "      <th></th>\n",
       "      <th>age</th>\n",
       "      <th>is_female</th>\n",
       "      <th>dependents</th>\n",
       "      <th>tenure</th>\n",
       "      <th>products_used</th>\n",
       "      <th>inactive_months_past_year</th>\n",
       "      <th>contacted_past_year</th>\n",
       "      <th>credit_limit</th>\n",
       "      <th>revolving_bal_tot</th>\n",
       "      <th>avg_open_to_buy</th>\n",
       "      <th>trans_amt_chng_q4_q1</th>\n",
       "      <th>tot_trans_amt</th>\n",
       "      <th>total_trans_ct</th>\n",
       "      <th>ct_chng_q4_q1</th>\n",
       "      <th>avg_card_utilization_ratio</th>\n",
       "    </tr>\n",
       "    <tr>\n",
       "      <th>churn</th>\n",
       "      <th></th>\n",
       "      <th></th>\n",
       "      <th></th>\n",
       "      <th></th>\n",
       "      <th></th>\n",
       "      <th></th>\n",
       "      <th></th>\n",
       "      <th></th>\n",
       "      <th></th>\n",
       "      <th></th>\n",
       "      <th></th>\n",
       "      <th></th>\n",
       "      <th></th>\n",
       "      <th></th>\n",
       "      <th></th>\n",
       "    </tr>\n",
       "  </thead>\n",
       "  <tbody>\n",
       "    <tr>\n",
       "      <th>0</th>\n",
       "      <td>2040</td>\n",
       "      <td>2040</td>\n",
       "      <td>2040</td>\n",
       "      <td>2040</td>\n",
       "      <td>2040</td>\n",
       "      <td>2040</td>\n",
       "      <td>2040</td>\n",
       "      <td>2040</td>\n",
       "      <td>2040</td>\n",
       "      <td>2040</td>\n",
       "      <td>2040</td>\n",
       "      <td>2040</td>\n",
       "      <td>2040</td>\n",
       "      <td>2040</td>\n",
       "      <td>2040</td>\n",
       "    </tr>\n",
       "    <tr>\n",
       "      <th>1</th>\n",
       "      <td>391</td>\n",
       "      <td>391</td>\n",
       "      <td>391</td>\n",
       "      <td>391</td>\n",
       "      <td>391</td>\n",
       "      <td>391</td>\n",
       "      <td>391</td>\n",
       "      <td>391</td>\n",
       "      <td>391</td>\n",
       "      <td>391</td>\n",
       "      <td>391</td>\n",
       "      <td>391</td>\n",
       "      <td>391</td>\n",
       "      <td>391</td>\n",
       "      <td>391</td>\n",
       "    </tr>\n",
       "  </tbody>\n",
       "</table>\n",
       "</div>"
      ],
      "text/plain": [
       "        age  is_female  dependents  tenure  products_used  \\\n",
       "churn                                                       \n",
       "0      2040       2040        2040    2040           2040   \n",
       "1       391        391         391     391            391   \n",
       "\n",
       "       inactive_months_past_year  contacted_past_year  credit_limit  \\\n",
       "churn                                                                 \n",
       "0                           2040                 2040          2040   \n",
       "1                            391                  391           391   \n",
       "\n",
       "       revolving_bal_tot  avg_open_to_buy  trans_amt_chng_q4_q1  \\\n",
       "churn                                                             \n",
       "0                   2040             2040                  2040   \n",
       "1                    391              391                   391   \n",
       "\n",
       "       tot_trans_amt  total_trans_ct  ct_chng_q4_q1  \\\n",
       "churn                                                 \n",
       "0               2040            2040           2040   \n",
       "1                391             391            391   \n",
       "\n",
       "       avg_card_utilization_ratio  \n",
       "churn                              \n",
       "0                            2040  \n",
       "1                             391  "
      ]
     },
     "execution_count": 59,
     "metadata": {},
     "output_type": "execute_result"
    }
   ],
   "source": [
    "validate.groupby('churn').count()"
   ]
  },
  {
   "cell_type": "code",
   "execution_count": 60,
   "metadata": {},
   "outputs": [
    {
     "name": "stdout",
     "output_type": "stream",
     "text": [
      "Baseline     = 0.8392\n"
     ]
    }
   ],
   "source": [
    "print(f'Baseline     = {(2040/(2040 + 391)):.4f}')"
   ]
  },
  {
   "cell_type": "markdown",
   "metadata": {},
   "source": [
    "### Decision Tree max depth of 5"
   ]
  },
  {
   "cell_type": "code",
   "execution_count": 57,
   "metadata": {},
   "outputs": [
    {
     "name": "stdout",
     "output_type": "stream",
     "text": [
      "              precision    recall  f1-score   support\n",
      "\n",
      "           0       0.96      0.95      0.96      2040\n",
      "           1       0.75      0.81      0.78       391\n",
      "\n",
      "    accuracy                           0.93      2431\n",
      "   macro avg       0.86      0.88      0.87      2431\n",
      "weighted avg       0.93      0.93      0.93      2431\n",
      "\n"
     ]
    }
   ],
   "source": [
    "y5_val_pred = dt5.predict(x_validate)\n",
    "print(classification_report(y_validate, y5_val_pred))"
   ]
  },
  {
   "cell_type": "markdown",
   "metadata": {},
   "source": [
    "### Random Forest max depth of 8"
   ]
  },
  {
   "cell_type": "code",
   "execution_count": 62,
   "metadata": {},
   "outputs": [
    {
     "name": "stdout",
     "output_type": "stream",
     "text": [
      "              precision    recall  f1-score   support\n",
      "\n",
      "           0       0.95      0.98      0.97      2040\n",
      "           1       0.89      0.73      0.81       391\n",
      "\n",
      "    accuracy                           0.94      2431\n",
      "   macro avg       0.92      0.86      0.89      2431\n",
      "weighted avg       0.94      0.94      0.94      2431\n",
      "\n"
     ]
    }
   ],
   "source": [
    "y8_val_pred = rf8.predict(x_validate)\n",
    "print(classification_report(y_validate, y8_val_pred))"
   ]
  },
  {
   "cell_type": "markdown",
   "metadata": {},
   "source": [
    "### KNN 5 neighbors"
   ]
  },
  {
   "cell_type": "code",
   "execution_count": 64,
   "metadata": {},
   "outputs": [
    {
     "name": "stdout",
     "output_type": "stream",
     "text": [
      "              precision    recall  f1-score   support\n",
      "\n",
      "           0       0.90      0.95      0.92      2040\n",
      "           1       0.64      0.43      0.51       391\n",
      "\n",
      "    accuracy                           0.87      2431\n",
      "   macro avg       0.77      0.69      0.72      2431\n",
      "weighted avg       0.86      0.87      0.86      2431\n",
      "\n"
     ]
    }
   ],
   "source": [
    "kn_val_pred = logit2.predict(x_validate)\n",
    "print(classification_report(y_validate, kn_val_pred))"
   ]
  },
  {
   "cell_type": "markdown",
   "metadata": {},
   "source": [
    "## Test"
   ]
  },
  {
   "cell_type": "markdown",
   "metadata": {},
   "source": [
    "### Baseline"
   ]
  },
  {
   "cell_type": "code",
   "execution_count": 66,
   "metadata": {},
   "outputs": [
    {
     "data": {
      "text/html": [
       "<div>\n",
       "<style scoped>\n",
       "    .dataframe tbody tr th:only-of-type {\n",
       "        vertical-align: middle;\n",
       "    }\n",
       "\n",
       "    .dataframe tbody tr th {\n",
       "        vertical-align: top;\n",
       "    }\n",
       "\n",
       "    .dataframe thead th {\n",
       "        text-align: right;\n",
       "    }\n",
       "</style>\n",
       "<table border=\"1\" class=\"dataframe\">\n",
       "  <thead>\n",
       "    <tr style=\"text-align: right;\">\n",
       "      <th></th>\n",
       "      <th>age</th>\n",
       "      <th>is_female</th>\n",
       "      <th>dependents</th>\n",
       "      <th>tenure</th>\n",
       "      <th>products_used</th>\n",
       "      <th>inactive_months_past_year</th>\n",
       "      <th>contacted_past_year</th>\n",
       "      <th>credit_limit</th>\n",
       "      <th>revolving_bal_tot</th>\n",
       "      <th>avg_open_to_buy</th>\n",
       "      <th>trans_amt_chng_q4_q1</th>\n",
       "      <th>tot_trans_amt</th>\n",
       "      <th>total_trans_ct</th>\n",
       "      <th>ct_chng_q4_q1</th>\n",
       "      <th>avg_card_utilization_ratio</th>\n",
       "    </tr>\n",
       "    <tr>\n",
       "      <th>churn</th>\n",
       "      <th></th>\n",
       "      <th></th>\n",
       "      <th></th>\n",
       "      <th></th>\n",
       "      <th></th>\n",
       "      <th></th>\n",
       "      <th></th>\n",
       "      <th></th>\n",
       "      <th></th>\n",
       "      <th></th>\n",
       "      <th></th>\n",
       "      <th></th>\n",
       "      <th></th>\n",
       "      <th></th>\n",
       "      <th></th>\n",
       "    </tr>\n",
       "  </thead>\n",
       "  <tbody>\n",
       "    <tr>\n",
       "      <th>0</th>\n",
       "      <td>1701</td>\n",
       "      <td>1701</td>\n",
       "      <td>1701</td>\n",
       "      <td>1701</td>\n",
       "      <td>1701</td>\n",
       "      <td>1701</td>\n",
       "      <td>1701</td>\n",
       "      <td>1701</td>\n",
       "      <td>1701</td>\n",
       "      <td>1701</td>\n",
       "      <td>1701</td>\n",
       "      <td>1701</td>\n",
       "      <td>1701</td>\n",
       "      <td>1701</td>\n",
       "      <td>1701</td>\n",
       "    </tr>\n",
       "    <tr>\n",
       "      <th>1</th>\n",
       "      <td>325</td>\n",
       "      <td>325</td>\n",
       "      <td>325</td>\n",
       "      <td>325</td>\n",
       "      <td>325</td>\n",
       "      <td>325</td>\n",
       "      <td>325</td>\n",
       "      <td>325</td>\n",
       "      <td>325</td>\n",
       "      <td>325</td>\n",
       "      <td>325</td>\n",
       "      <td>325</td>\n",
       "      <td>325</td>\n",
       "      <td>325</td>\n",
       "      <td>325</td>\n",
       "    </tr>\n",
       "  </tbody>\n",
       "</table>\n",
       "</div>"
      ],
      "text/plain": [
       "        age  is_female  dependents  tenure  products_used  \\\n",
       "churn                                                       \n",
       "0      1701       1701        1701    1701           1701   \n",
       "1       325        325         325     325            325   \n",
       "\n",
       "       inactive_months_past_year  contacted_past_year  credit_limit  \\\n",
       "churn                                                                 \n",
       "0                           1701                 1701          1701   \n",
       "1                            325                  325           325   \n",
       "\n",
       "       revolving_bal_tot  avg_open_to_buy  trans_amt_chng_q4_q1  \\\n",
       "churn                                                             \n",
       "0                   1701             1701                  1701   \n",
       "1                    325              325                   325   \n",
       "\n",
       "       tot_trans_amt  total_trans_ct  ct_chng_q4_q1  \\\n",
       "churn                                                 \n",
       "0               1701            1701           1701   \n",
       "1                325             325            325   \n",
       "\n",
       "       avg_card_utilization_ratio  \n",
       "churn                              \n",
       "0                            1701  \n",
       "1                             325  "
      ]
     },
     "execution_count": 66,
     "metadata": {},
     "output_type": "execute_result"
    }
   ],
   "source": [
    "test.groupby('churn').count()"
   ]
  },
  {
   "cell_type": "code",
   "execution_count": 67,
   "metadata": {},
   "outputs": [
    {
     "name": "stdout",
     "output_type": "stream",
     "text": [
      "Baseline     = 0.8396\n"
     ]
    }
   ],
   "source": [
    "print(f'Baseline     = {(1701/(325 + 1701)):.4f}')"
   ]
  },
  {
   "cell_type": "code",
   "execution_count": 68,
   "metadata": {},
   "outputs": [
    {
     "name": "stdout",
     "output_type": "stream",
     "text": [
      "              precision    recall  f1-score   support\n",
      "\n",
      "           0       0.94      0.99      0.96      1701\n",
      "           1       0.91      0.69      0.78       325\n",
      "\n",
      "    accuracy                           0.94      2026\n",
      "   macro avg       0.93      0.84      0.87      2026\n",
      "weighted avg       0.94      0.94      0.94      2026\n",
      "\n"
     ]
    }
   ],
   "source": [
    "y8_test_pred = rf8.predict(x_test)\n",
    "print(classification_report(y_test, y8_test_pred))"
   ]
  },
  {
   "cell_type": "code",
   "execution_count": null,
   "metadata": {},
   "outputs": [],
   "source": []
  }
 ],
 "metadata": {
  "kernelspec": {
   "display_name": "Python 3",
   "language": "python",
   "name": "python3"
  },
  "language_info": {
   "codemirror_mode": {
    "name": "ipython",
    "version": 3
   },
   "file_extension": ".py",
   "mimetype": "text/x-python",
   "name": "python",
   "nbconvert_exporter": "python",
   "pygments_lexer": "ipython3",
   "version": "3.8.5"
  }
 },
 "nbformat": 4,
 "nbformat_minor": 4
}
